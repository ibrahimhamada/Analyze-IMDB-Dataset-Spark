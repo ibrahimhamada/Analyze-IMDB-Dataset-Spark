{
  "nbformat": 4,
  "nbformat_minor": 0,
  "metadata": {
    "colab": {
      "provenance": [],
      "collapsed_sections": [
        "Kc2KQNvZCOQZ",
        "v4NyuHg5nZW-"
      ]
    },
    "kernelspec": {
      "name": "python3",
      "display_name": "Python 3"
    },
    "language_info": {
      "name": "python"
    }
  },
  "cells": [
    {
      "cell_type": "markdown",
      "source": [
        "## Downloading the dataset"
      ],
      "metadata": {
        "id": "LHank_WXj5-C"
      }
    },
    {
      "cell_type": "code",
      "source": [
        "!pip install pyspark"
      ],
      "metadata": {
        "colab": {
          "base_uri": "https://localhost:8080/"
        },
        "id": "3Iv3qw3HXsX-",
        "outputId": "38ea493d-2f3e-4256-aed8-a4b553691607"
      },
      "execution_count": null,
      "outputs": [
        {
          "output_type": "stream",
          "name": "stdout",
          "text": [
            "Looking in indexes: https://pypi.org/simple, https://us-python.pkg.dev/colab-wheels/public/simple/\n",
            "Collecting pyspark\n",
            "  Downloading pyspark-3.3.1.tar.gz (281.4 MB)\n",
            "\u001b[2K     \u001b[90m━━━━━━━━━━━━━━━━━━━━━━━━━━━━━━━━━━━━━━━\u001b[0m \u001b[32m281.4/281.4 MB\u001b[0m \u001b[31m1.9 MB/s\u001b[0m eta \u001b[36m0:00:00\u001b[0m\n",
            "\u001b[?25h  Preparing metadata (setup.py) ... \u001b[?25l\u001b[?25hdone\n",
            "Collecting py4j==0.10.9.5\n",
            "  Downloading py4j-0.10.9.5-py2.py3-none-any.whl (199 kB)\n",
            "\u001b[2K     \u001b[90m━━━━━━━━━━━━━━━━━━━━━━━━━━━━━━━━━━━━━━\u001b[0m \u001b[32m199.7/199.7 KB\u001b[0m \u001b[31m12.8 MB/s\u001b[0m eta \u001b[36m0:00:00\u001b[0m\n",
            "\u001b[?25hBuilding wheels for collected packages: pyspark\n",
            "  Building wheel for pyspark (setup.py) ... \u001b[?25l\u001b[?25hdone\n",
            "  Created wheel for pyspark: filename=pyspark-3.3.1-py2.py3-none-any.whl size=281845512 sha256=c5f4bc189d0211566b9f8a5f8a0d8afcfdb7f8dba76e4a6cce08f13062b90915\n",
            "  Stored in directory: /root/.cache/pip/wheels/43/dc/11/ec201cd671da62fa9c5cc77078235e40722170ceba231d7598\n",
            "Successfully built pyspark\n",
            "Installing collected packages: py4j, pyspark\n",
            "Successfully installed py4j-0.10.9.5 pyspark-3.3.1\n"
          ]
        }
      ]
    },
    {
      "cell_type": "code",
      "execution_count": null,
      "metadata": {
        "colab": {
          "base_uri": "https://localhost:8080/"
        },
        "id": "iIyP73soBXco",
        "outputId": "d1b28913-35a7-4c98-c6fa-e2453f813551"
      },
      "outputs": [
        {
          "output_type": "stream",
          "name": "stdout",
          "text": [
            "Mounted at /content/drive\n"
          ]
        }
      ],
      "source": [
        "from google.colab import drive\n",
        "drive.mount('/content/drive')"
      ]
    },
    {
      "cell_type": "code",
      "source": [
        "import pyspark\n",
        "from pyspark import SparkContext\n",
        "from pyspark.sql.session import SparkSession\n",
        "import re\n",
        "import json\n",
        "import itertools\n",
        "import ast\n",
        "import seaborn as sns\n",
        "import matplotlib.pyplot as plt\n",
        "from matplotlib.pyplot import figure\n",
        "import pandas as pd\n",
        "from operator import add\n",
        "import numpy as np\n",
        "import nltk \n",
        "from textblob import TextBlob\n",
        "from textblob import Word\n",
        "from nltk.corpus import stopwords\n",
        "from itertools import groupby\n",
        "from operator import itemgetter\n",
        "from sklearn import metrics "
      ],
      "metadata": {
        "id": "J5N4HsjGXuXS"
      },
      "execution_count": null,
      "outputs": []
    },
    {
      "cell_type": "code",
      "source": [
        "## Helper Functions\n",
        "def extract_year_Movie(string):\n",
        "    match = re.search(r'\\((\\d{4})\\)', string)\n",
        "    if match:\n",
        "        return match.group(1)\n",
        "    else:\n",
        "        return None\n",
        "\n",
        "\n",
        "def extract_text_Movie(string):\n",
        "    match = re.search(r'(.*)\\s\\(\\d{4}\\)', string)\n",
        "    if match:\n",
        "        return match.group(1)\n",
        "    else:\n",
        "        return None\n",
        "\n",
        "def extract_years_Tv(string):\n",
        "    match = re.search(r'\\((\\d{4})–\\s?(\\d{4})?\\)', string)\n",
        "    if match:\n",
        "        start_year = match.group(1)\n",
        "        end_year = match.group(2)\n",
        "        if end_year:\n",
        "            return \"({}-{})\".format(start_year, end_year)\n",
        "        else:\n",
        "            return \"({}-)\".format(start_year)\n",
        "    else:\n",
        "        return None\n",
        "\n",
        "def extract_text_Tv(string):\n",
        "    match = re.search(r'(.*)\\s\\(\\d{4}–\\s?(\\d{4})?\\)', string)\n",
        "    if match:\n",
        "        return match.group(1)\n",
        "    else:\n",
        "        return None\n",
        "        "
      ],
      "metadata": {
        "id": "-50w7FPlk9hw"
      },
      "execution_count": null,
      "outputs": []
    },
    {
      "cell_type": "code",
      "source": [
        "! pip install kaggle\n",
        "! mkdir ~/.kaggle\n",
        "!cp /content/drive/MyDrive/kaggle.json ~/.kaggle/kaggle.json\n",
        "! chmod 600 ~/.kaggle/kaggle.json"
      ],
      "metadata": {
        "colab": {
          "base_uri": "https://localhost:8080/"
        },
        "id": "SGB-L1eKQhd8",
        "outputId": "cc665aa1-0bae-47a1-c0cb-0bcffd5ef59a"
      },
      "execution_count": null,
      "outputs": [
        {
          "output_type": "stream",
          "name": "stdout",
          "text": [
            "Looking in indexes: https://pypi.org/simple, https://us-python.pkg.dev/colab-wheels/public/simple/\n",
            "Requirement already satisfied: kaggle in /usr/local/lib/python3.8/dist-packages (1.5.12)\n",
            "Requirement already satisfied: python-slugify in /usr/local/lib/python3.8/dist-packages (from kaggle) (7.0.0)\n",
            "Requirement already satisfied: six>=1.10 in /usr/local/lib/python3.8/dist-packages (from kaggle) (1.15.0)\n",
            "Requirement already satisfied: python-dateutil in /usr/local/lib/python3.8/dist-packages (from kaggle) (2.8.2)\n",
            "Requirement already satisfied: urllib3 in /usr/local/lib/python3.8/dist-packages (from kaggle) (1.24.3)\n",
            "Requirement already satisfied: requests in /usr/local/lib/python3.8/dist-packages (from kaggle) (2.25.1)\n",
            "Requirement already satisfied: certifi in /usr/local/lib/python3.8/dist-packages (from kaggle) (2022.12.7)\n",
            "Requirement already satisfied: tqdm in /usr/local/lib/python3.8/dist-packages (from kaggle) (4.64.1)\n",
            "Requirement already satisfied: text-unidecode>=1.3 in /usr/local/lib/python3.8/dist-packages (from python-slugify->kaggle) (1.3)\n",
            "Requirement already satisfied: chardet<5,>=3.0.2 in /usr/local/lib/python3.8/dist-packages (from requests->kaggle) (4.0.0)\n",
            "Requirement already satisfied: idna<3,>=2.5 in /usr/local/lib/python3.8/dist-packages (from requests->kaggle) (2.10)\n"
          ]
        }
      ]
    },
    {
      "cell_type": "code",
      "source": [
        "! kaggle datasets download ebiswas/imdb-review-dataset"
      ],
      "metadata": {
        "colab": {
          "base_uri": "https://localhost:8080/"
        },
        "id": "ky3-viO7Q5z8",
        "outputId": "4ec042b0-8992-4bd9-db62-10eab5ea1bcc"
      },
      "execution_count": null,
      "outputs": [
        {
          "output_type": "stream",
          "name": "stdout",
          "text": [
            "Downloading imdb-review-dataset.zip to /content\n",
            "100% 2.68G/2.69G [00:34<00:00, 112MB/s] \n",
            "100% 2.69G/2.69G [00:34<00:00, 83.3MB/s]\n"
          ]
        }
      ]
    },
    {
      "cell_type": "code",
      "source": [
        "!unzip imdb-review-dataset.zip"
      ],
      "metadata": {
        "colab": {
          "base_uri": "https://localhost:8080/"
        },
        "id": "aPaujn-Xfeal",
        "outputId": "d57a86cb-f921-457d-86fa-b979d9990586"
      },
      "execution_count": null,
      "outputs": [
        {
          "output_type": "stream",
          "name": "stdout",
          "text": [
            "Archive:  imdb-review-dataset.zip\n",
            "  inflating: part-01.json            \n",
            "  inflating: part-02.json            \n",
            "  inflating: part-03.json            \n",
            "  inflating: part-04.json            \n",
            "  inflating: part-05.json            \n",
            "  inflating: part-06.json            \n",
            "  inflating: sample.json             \n"
          ]
        }
      ]
    },
    {
      "cell_type": "markdown",
      "source": [
        "## Reading the data by Spark"
      ],
      "metadata": {
        "id": "q2grhyyDj-hu"
      }
    },
    {
      "cell_type": "code",
      "source": [
        "!pip3 install tqdm"
      ],
      "metadata": {
        "colab": {
          "base_uri": "https://localhost:8080/"
        },
        "id": "5VXoIK1iXwit",
        "outputId": "6457fa0c-9ec9-432d-d948-fff1d5468c42"
      },
      "execution_count": null,
      "outputs": [
        {
          "output_type": "stream",
          "name": "stdout",
          "text": [
            "Looking in indexes: https://pypi.org/simple, https://us-python.pkg.dev/colab-wheels/public/simple/\n",
            "Requirement already satisfied: tqdm in /usr/local/lib/python3.8/dist-packages (4.64.1)\n"
          ]
        }
      ]
    },
    {
      "cell_type": "code",
      "source": [
        "sc = pyspark.SparkContext(appName=\"Final_Project\")\n",
        "spark = SparkSession(sc)"
      ],
      "metadata": {
        "id": "B7ghA1s4d1rx"
      },
      "execution_count": null,
      "outputs": []
    },
    {
      "cell_type": "markdown",
      "source": [
        "## Contiune Spark RDD"
      ],
      "metadata": {
        "id": "Kc2KQNvZCOQZ"
      }
    },
    {
      "cell_type": "code",
      "source": [
        "path = '/content/drive/MyDrive/BigData_FinalProject/Splits1/*.json'\n",
        "data_rdd = spark.read.option(\"multiline\",\"true\").json(path).rdd"
      ],
      "metadata": {
        "id": "_Em0ud4PXz3G"
      },
      "execution_count": null,
      "outputs": []
    },
    {
      "cell_type": "code",
      "source": [
        "num_reviews = data_rdd.count()"
      ],
      "metadata": {
        "id": "Y7HVGUNeiqeo"
      },
      "execution_count": null,
      "outputs": []
    },
    {
      "cell_type": "markdown",
      "source": [
        "Requirments we want to do\n",
        "1. Lowest Rated Shows\n",
        "2. Highest Rated Shows\n",
        "3. Number of Spoiled Reviews\n",
        "4. Shows with the highest number of helpful reviews \n",
        "5. Shows  with the highest number of reviews\n",
        "6. Shows with the highest number of ratings \n",
        "7. The highest rated Show in each year\n",
        "8. The year which has the highest movies releases"
      ],
      "metadata": {
        "id": "5UhoEmh-CdbK"
      }
    },
    {
      "cell_type": "markdown",
      "source": [
        "# Lowest ratings  movies"
      ],
      "metadata": {
        "id": "B3jSLe5Ty7uX"
      }
    },
    {
      "cell_type": "code",
      "source": [
        "Temp = data_rdd.filter(lambda x:x['rating']!= None)\n",
        "Mov = Temp.map(lambda x:((x['movie']),1)).filter(lambda x:x[0] != None).reduceByKey(lambda a, b: a + b).sortBy(lambda x: x[1], ascending = False)"
      ],
      "metadata": {
        "id": "CT75GbZXYSRe"
      },
      "execution_count": null,
      "outputs": []
    },
    {
      "cell_type": "code",
      "source": [
        "#Creating a dictionary, its key would be the Movie name and the value number of rating it has\n",
        "Movies_Names = {}\n",
        "Mov_Collect = Mov.collect()\n",
        "for i in range(len(Mov_Collect)):\n",
        "  Movies_Names[Mov_Collect[i][0]] = Mov_Collect[i][1]"
      ],
      "metadata": {
        "id": "XakMfqBd-5GP"
      },
      "execution_count": null,
      "outputs": []
    },
    {
      "cell_type": "code",
      "source": [
        "Movies_Ratings = Temp.map(lambda x:(x['movie'],x['rating'])).map(lambda x:(x[0],int(x[1])))\n",
        "Movies_Average_Rating = Movies_Ratings.reduceByKey(add).map(lambda x:(extract_text_Movie(x[0]),float(round(x[1]/Movies_Names[x[0]],2)))).filter(lambda x:x[0]!= None).filter(lambda x:x[1] > 3)"
      ],
      "metadata": {
        "id": "uM-hHv17zSRv"
      },
      "execution_count": null,
      "outputs": []
    },
    {
      "cell_type": "code",
      "source": [
        "Movies_Average_Rating.take(10)"
      ],
      "metadata": {
        "colab": {
          "base_uri": "https://localhost:8080/"
        },
        "id": "HcJPGEb2kt65",
        "outputId": "8765c5f5-d137-48f4-dcb6-d0856aff6f49"
      },
      "execution_count": null,
      "outputs": [
        {
          "output_type": "execute_result",
          "data": {
            "text/plain": [
              "[('Prometheus', 9.5),\n",
              " ('Rossini', 7.33),\n",
              " ('Gettysburg', 7.35),\n",
              " ('True Legend', 8.17),\n",
              " ('Zhifu', 7.5),\n",
              " ('District 9', 7.75),\n",
              " (\"Mackenna's Gold\", 6.06),\n",
              " ('Der Lauf der Dinge', 5.5),\n",
              " ('Liberty Heights', 7.0),\n",
              " (\"Winchester '73\", 7.32)]"
            ]
          },
          "metadata": {},
          "execution_count": 84
        }
      ]
    },
    {
      "cell_type": "code",
      "source": [
        "Lowest_Average_Rating = Movies_Average_Rating.sortBy(lambda x: (x[1]), ascending = True)"
      ],
      "metadata": {
        "id": "1ZuiI718kqkM"
      },
      "execution_count": null,
      "outputs": []
    },
    {
      "cell_type": "code",
      "source": [
        "Lowest_Average_Rating.take(10)"
      ],
      "metadata": {
        "colab": {
          "base_uri": "https://localhost:8080/"
        },
        "id": "Nj03bZNYkuWL",
        "outputId": "39c44790-7a5c-408e-c974-217ca581b7fd"
      },
      "execution_count": null,
      "outputs": [
        {
          "output_type": "execute_result",
          "data": {
            "text/plain": [
              "[('Edge of Fear', 3.01),\n",
              " ('Taxi 5', 3.03),\n",
              " ('The Houses October Built 2', 3.03),\n",
              " ('Whipped', 3.03),\n",
              " ('Catherine the Great', 3.03),\n",
              " ('Because I Said So', 3.03),\n",
              " ('War Pigs', 3.03),\n",
              " ('Knock Knock (I)', 3.04),\n",
              " ('Paydirt', 3.04),\n",
              " ('Supergirl: Back from the Future - Part One', 3.05)]"
            ]
          },
          "metadata": {},
          "execution_count": 89
        }
      ]
    },
    {
      "cell_type": "code",
      "source": [
        "a = Lowest_Average_Rating.collect()"
      ],
      "metadata": {
        "id": "u5DYCZDNAhtn"
      },
      "execution_count": null,
      "outputs": []
    },
    {
      "cell_type": "code",
      "source": [
        "sns.set(rc = {'figure.figsize':(25,15)})\n",
        "plt.title(\"Lowest Rated Movies\")\n",
        "sns.barplot(x=[a[i][0] for i in range(0,500,100)],y=[a[i][1] for i in range(0,500,100)], palette='Set2')\n",
        "plt.xlabel(\"Year\")\n",
        "plt.ylabel(\"Movies\")\n",
        "plt.show()"
      ],
      "metadata": {
        "colab": {
          "base_uri": "https://localhost:8080/",
          "height": 899
        },
        "id": "AQsiWC7eBMI3",
        "outputId": "d106f49c-7a7d-481e-fbec-a62e46d7e967"
      },
      "execution_count": null,
      "outputs": [
        {
          "output_type": "display_data",
          "data": {
            "text/plain": [
              "<Figure size 1800x1080 with 1 Axes>"
            ],
            "image/png": "[encoded data removed]"
          },
          "metadata": {}
        }
      ]
    },
    {
      "cell_type": "markdown",
      "source": [
        "# Highest ratings  movies"
      ],
      "metadata": {
        "id": "Ei6rzwxCkfFA"
      }
    },
    {
      "cell_type": "code",
      "source": [
        "Highest_Average_Rating = Movies_Average_Rating.sortBy(lambda x: float(x[1]), ascending = False).filter (lambda x:x[1] <9.5)"
      ],
      "metadata": {
        "id": "PlKNcIXAkihC"
      },
      "execution_count": null,
      "outputs": []
    },
    {
      "cell_type": "code",
      "source": [
        "Highest_Average_Rating.take(10)"
      ],
      "metadata": {
        "colab": {
          "base_uri": "https://localhost:8080/"
        },
        "id": "IdENAhRZ7cgx",
        "outputId": "753752b1-af5a-429f-a879-2af9177234ad"
      },
      "execution_count": null,
      "outputs": [
        {
          "output_type": "execute_result",
          "data": {
            "text/plain": [
              "[('Surge (II)', 9.49),\n",
              " (\"Supergirl: It's a Super Life\", 9.49),\n",
              " ('Adventure Boyz', 9.49),\n",
              " ('Dark: Between the Time', 9.49),\n",
              " ('Return to the Hiding Place', 9.48),\n",
              " ('The Walking Dead: Too Far Gone', 9.48),\n",
              " ('Tijuana Jackson: Purpose Over Prison', 9.48),\n",
              " ('The 100: Damocles: Part Two', 9.48),\n",
              " ('異形', 9.48),\n",
              " ('Moondru Per Moondru Kaadhal', 9.48)]"
            ]
          },
          "metadata": {},
          "execution_count": 99
        }
      ]
    },
    {
      "cell_type": "code",
      "source": [
        "a = Highest_Average_Rating.collect()"
      ],
      "metadata": {
        "id": "GhQdJbINF6y3"
      },
      "execution_count": null,
      "outputs": []
    },
    {
      "cell_type": "code",
      "source": [
        "sns.set(rc = {'figure.figsize':(20,10)})\n",
        "plt.title(\"Highest Rated Movies\")\n",
        "sns.barplot(x=[a[i][0] for i in range(0,5)],y=[a[i][1] for i in range(0,5)], palette='Set2')\n",
        "plt.xlabel(\"Year\")\n",
        "plt.ylabel(\"Movies\")\n",
        "plt.show();"
      ],
      "metadata": {
        "colab": {
          "base_uri": "https://localhost:8080/",
          "height": 627
        },
        "id": "A8npd_y2F7Mz",
        "outputId": "f5463415-b772-4077-d603-65a7e0178158"
      },
      "execution_count": null,
      "outputs": [
        {
          "output_type": "display_data",
          "data": {
            "text/plain": [
              "<Figure size 1440x720 with 1 Axes>"
            ],
            "image/png": "[encoded data removed]"
          },
          "metadata": {}
        }
      ]
    },
    {
      "cell_type": "markdown",
      "source": [
        "# Lowest ratings  TV Shows"
      ],
      "metadata": {
        "id": "hNU9QQErk5z5"
      }
    },
    {
      "cell_type": "code",
      "source": [
        "TV_Average_Rating = Movies_Ratings.map(lambda x:(extract_text_Tv(x[0]),round(x[1]/Movies_Names[x[0]],2))).filter(lambda x:x[0]!= None).filter(lambda x:x[1] > 3)"
      ],
      "metadata": {
        "id": "TR4s5G-bn9Do"
      },
      "execution_count": null,
      "outputs": []
    },
    {
      "cell_type": "code",
      "source": [
        "TV_Average_Rating.take(10)"
      ],
      "metadata": {
        "colab": {
          "base_uri": "https://localhost:8080/"
        },
        "id": "RHqpSZEOs7h-",
        "outputId": "8249d49a-643a-4aab-c273-5890a269d8f7"
      },
      "execution_count": null,
      "outputs": [
        {
          "output_type": "execute_result",
          "data": {
            "text/plain": [
              "[('The Vice Guide to Travel', 9.0),\n",
              " ('Patrolling with Sean Kennedy', 9.0),\n",
              " ('Tweenies', 3.5),\n",
              " ('Massuguna otoko', 7.0),\n",
              " ('Hot Hero Sandwich', 10.0),\n",
              " ('Fantastic Four: The Animated Series', 3.5),\n",
              " ('¿Qué apostamos?', 10.0),\n",
              " ('Royal Recipes', 10.0),\n",
              " ('The Incredible Hulk', 9.0),\n",
              " ('Marvin the Tap-Dancing Horse', 10.0)]"
            ]
          },
          "metadata": {},
          "execution_count": 104
        }
      ]
    },
    {
      "cell_type": "code",
      "source": [
        "Lowest_Average_Rating = TV_Average_Rating.sortBy(lambda x: float(x[1]), ascending = True)"
      ],
      "metadata": {
        "id": "CztaM_J0meVr"
      },
      "execution_count": null,
      "outputs": []
    },
    {
      "cell_type": "code",
      "source": [
        "Lowest_Average_Rating.take(10)"
      ],
      "metadata": {
        "colab": {
          "base_uri": "https://localhost:8080/"
        },
        "id": "US0xOmUboMxu",
        "outputId": "d86d8dad-037a-4c5e-9761-ef478629aeca"
      },
      "execution_count": null,
      "outputs": [
        {
          "output_type": "execute_result",
          "data": {
            "text/plain": [
              "[('HIStory', 3.33),\n",
              " ('Life on Earth', 3.33),\n",
              " ('Eat. Race. Win.', 3.33),\n",
              " ('Rebelde Way', 3.33),\n",
              " ('Corazón salvaje', 3.33),\n",
              " ('The Friendly Giant', 3.33),\n",
              " (\"On Tour with Asperger's Are Us\", 3.33),\n",
              " ('Skam NL', 3.33),\n",
              " ('Single by 30', 3.33),\n",
              " ('José do Egito', 3.33)]"
            ]
          },
          "metadata": {},
          "execution_count": 106
        }
      ]
    },
    {
      "cell_type": "code",
      "source": [
        "a = Lowest_Average_Rating.collect()"
      ],
      "metadata": {
        "id": "-EiiBjpZGGcu"
      },
      "execution_count": null,
      "outputs": []
    },
    {
      "cell_type": "code",
      "source": [
        "sns.set(rc = {'figure.figsize':(20,10)})\n",
        "plt.title(\"Lowest Rated Tv Shows\")\n",
        "sns.barplot(x=[a[i][0] for i in range(0,5)],y=[a[i][1] for i in range(0,5)], palette='Set2')\n",
        "plt.xlabel(\"Year\")\n",
        "plt.ylabel(\"Tv Shows\")\n",
        "plt.show()"
      ],
      "metadata": {
        "colab": {
          "base_uri": "https://localhost:8080/",
          "height": 628
        },
        "id": "CKpUwvWfGGfL",
        "outputId": "4ffe083b-2459-49dd-e536-f096f4ed4c52"
      },
      "execution_count": null,
      "outputs": [
        {
          "output_type": "display_data",
          "data": {
            "text/plain": [
              "<Figure size 1440x720 with 1 Axes>"
            ],
            "image/png": "[encoded data removed]"
          },
          "metadata": {}
        }
      ]
    },
    {
      "cell_type": "markdown",
      "source": [
        "# Highest ratings  TV Shows"
      ],
      "metadata": {
        "id": "kHN03tTwk2XK"
      }
    },
    {
      "cell_type": "code",
      "source": [
        "Highest_Average_Rating = TV_Average_Rating.sortBy(lambda x: float(x[1]), ascending = False).filter (lambda x:x[1] <9.5)"
      ],
      "metadata": {
        "id": "Aq-J-ji8CGzD"
      },
      "execution_count": null,
      "outputs": []
    },
    {
      "cell_type": "code",
      "source": [
        "Highest_Average_Rating.take(10)"
      ],
      "metadata": {
        "id": "pkQ-eODC_J1h",
        "colab": {
          "base_uri": "https://localhost:8080/"
        },
        "outputId": "6f9766ea-e6a4-4033-ca20-cadedd83507b"
      },
      "execution_count": null,
      "outputs": [
        {
          "output_type": "execute_result",
          "data": {
            "text/plain": [
              "[('The Vice Guide to Travel', 9.0),\n",
              " ('Patrolling with Sean Kennedy', 9.0),\n",
              " ('The Incredible Hulk', 9.0),\n",
              " ('Taeyangeul ssamkyeora', 9.0),\n",
              " ('Dastardly and Muttley in Their Flying Machines', 9.0),\n",
              " ('Wild Things', 9.0),\n",
              " ('Shôkôjo Seira', 9.0),\n",
              " ('Ishi no mayu', 9.0),\n",
              " ('Syn', 9.0),\n",
              " ('Murdoch Mysteries: The Curse of the Lost Pharaohs', 9.0)]"
            ]
          },
          "metadata": {},
          "execution_count": 112
        }
      ]
    },
    {
      "cell_type": "code",
      "source": [
        "a = Highest_Average_Rating.collect()"
      ],
      "metadata": {
        "id": "p1C840FVjkMZ"
      },
      "execution_count": null,
      "outputs": []
    },
    {
      "cell_type": "code",
      "source": [
        "sns.set(rc = {'figure.figsize':(20,10)})\n",
        "plt.title(\"Highest Rated Tv Shows\")\n",
        "sns.barplot(x=[a[i][0] for i in range(0,5)],y=[a[i][1] for i in range(0,5)], palette='Set2')\n",
        "plt.xlabel(\"Year\")\n",
        "plt.ylabel(\"Tv Shows\")\n",
        "plt.show()"
      ],
      "metadata": {
        "colab": {
          "base_uri": "https://localhost:8080/",
          "height": 627
        },
        "id": "Y6lu9aS_GXbZ",
        "outputId": "8e687328-e509-4b60-cfd4-8271db3d1a59"
      },
      "execution_count": null,
      "outputs": [
        {
          "output_type": "display_data",
          "data": {
            "text/plain": [
              "<Figure size 1440x720 with 1 Axes>"
            ],
            "image/png": "[encoded data removed]"
          },
          "metadata": {}
        }
      ]
    },
    {
      "cell_type": "markdown",
      "source": [
        "# Number of Spoiled Reviews"
      ],
      "metadata": {
        "id": "4E3NlZnQMVCx"
      }
    },
    {
      "cell_type": "code",
      "source": [
        "Reviews_Numbers = data_rdd.map(lambda x:((x['spoiler_tag']),1)).reduceByKey(lambda a, b: a + b)"
      ],
      "metadata": {
        "id": "oH8_YgQ5MYOS"
      },
      "execution_count": null,
      "outputs": []
    },
    {
      "cell_type": "code",
      "source": [
        "a = Reviews_Numbers.collect()"
      ],
      "metadata": {
        "id": "timUKMoNGduv"
      },
      "execution_count": null,
      "outputs": []
    },
    {
      "cell_type": "code",
      "source": [
        "sns.set(rc = {'figure.figsize':(20,10)})\n",
        "plt.title(\"Number of Spoiled Reviews\")\n",
        "sns.barplot(x=[a[i][0] for i in range(0,2)],y=[a[i][1] for i in range(0,2)], palette='Set2')\n",
        "plt.xlabel(\"Spoiled\")\n",
        "plt.ylabel(\"Number of Reviews\")\n",
        "plt.show()"
      ],
      "metadata": {
        "colab": {
          "base_uri": "https://localhost:8080/",
          "height": 627
        },
        "id": "t_1r-AspGgVo",
        "outputId": "71adfb38-72a1-477e-c48b-4a4d5d235951"
      },
      "execution_count": null,
      "outputs": [
        {
          "output_type": "display_data",
          "data": {
            "text/plain": [
              "<Figure size 1440x720 with 1 Axes>"
            ],
            "image/png": "[encoded data removed]"
          },
          "metadata": {}
        }
      ]
    },
    {
      "cell_type": "markdown",
      "source": [
        "# Shows With The Highest Number of Helpful Reviews ?"
      ],
      "metadata": {
        "id": "wt_v7Y_fNc2H"
      }
    },
    {
      "cell_type": "code",
      "source": [
        "Helpful_Reviews = data_rdd.map(lambda x:((x['movie'],(x['helpful'][0])))).map(lambda x:(x[0],int((''.join(x[1].split(',')))))).reduceByKey(lambda a, b: a + b)\n",
        "Movies_Helpful_Reviews = Helpful_Reviews.map(lambda x: (extract_text_Movie(x[0]),x[1])).filter(lambda x:x[0] != None)\n",
        "Tv_Helpful_Reviws = Helpful_Reviews.map(lambda x: (extract_text_Tv (x[0]),x[1])).filter(lambda x:x[0] != None).sortBy(lambda x: float(x[1]), ascending = False)"
      ],
      "metadata": {
        "id": "L6xQISXuNrkf"
      },
      "execution_count": null,
      "outputs": []
    },
    {
      "cell_type": "code",
      "source": [
        "Movies_Helpful_Reviews.take(5)"
      ],
      "metadata": {
        "colab": {
          "base_uri": "https://localhost:8080/"
        },
        "id": "Y-mKwqY2h7lr",
        "outputId": "c71ddae5-6261-4a50-a629-933b83c75f9d"
      },
      "execution_count": null,
      "outputs": [
        {
          "output_type": "execute_result",
          "data": {
            "text/plain": [
              "[('Prometheus', 17),\n",
              " ('Rossini', 14),\n",
              " ('Gettysburg', 142),\n",
              " ('True Legend', 107),\n",
              " ('Zhifu', 13)]"
            ]
          },
          "metadata": {},
          "execution_count": 161
        }
      ]
    },
    {
      "cell_type": "code",
      "source": [
        "Tv_Helpful_Reviws.take(5)"
      ],
      "metadata": {
        "colab": {
          "base_uri": "https://localhost:8080/"
        },
        "id": "vBL219mVm9xH",
        "outputId": "76835e72-0513-418c-e376-64b2138ccb36"
      },
      "execution_count": null,
      "outputs": [
        {
          "output_type": "execute_result",
          "data": {
            "text/plain": [
              "[('Star Trek: Discovery', 77072),\n",
              " ('獵魔士', 55867),\n",
              " ('Game of Thrones', 51972),\n",
              " ('Star Trek: Picard', 47830),\n",
              " ('Chilling Adventures of Sabrina', 36974)]"
            ]
          },
          "metadata": {},
          "execution_count": 119
        }
      ]
    },
    {
      "cell_type": "code",
      "source": [
        "a = Tv_Helpful_Reviws.collect()"
      ],
      "metadata": {
        "id": "zCLoP_c7IFbX"
      },
      "execution_count": null,
      "outputs": []
    },
    {
      "cell_type": "code",
      "source": [
        "sns.set(rc = {'figure.figsize':(20,10)})\n",
        "plt.title(\"Hightest number of helpful reviews\")\n",
        "sns.barplot(x=[a[i][0] for i in range(0,5)],y=[a[i][1] for i in range(0,5)], palette='Set2')\n",
        "plt.xlabel(\"Show\")\n",
        "plt.ylabel(\"Year\")\n",
        "plt.show()"
      ],
      "metadata": {
        "colab": {
          "base_uri": "https://localhost:8080/",
          "height": 835
        },
        "id": "GxbGSQRGH5cf",
        "outputId": "55afb9c9-0298-43a0-d496-ef9640156c62"
      },
      "execution_count": null,
      "outputs": [
        {
          "output_type": "stream",
          "name": "stderr",
          "text": [
            "/usr/local/lib/python3.8/dist-packages/matplotlib/backends/backend_agg.py:214: RuntimeWarning: Glyph 29557 missing from current font.\n",
            "  font.set_text(s, 0.0, flags=flags)\n",
            "/usr/local/lib/python3.8/dist-packages/matplotlib/backends/backend_agg.py:214: RuntimeWarning: Glyph 39764 missing from current font.\n",
            "  font.set_text(s, 0.0, flags=flags)\n",
            "/usr/local/lib/python3.8/dist-packages/matplotlib/backends/backend_agg.py:214: RuntimeWarning: Glyph 22763 missing from current font.\n",
            "  font.set_text(s, 0.0, flags=flags)\n",
            "/usr/local/lib/python3.8/dist-packages/matplotlib/backends/backend_agg.py:183: RuntimeWarning: Glyph 29557 missing from current font.\n",
            "  font.set_text(s, 0, flags=flags)\n",
            "/usr/local/lib/python3.8/dist-packages/matplotlib/backends/backend_agg.py:183: RuntimeWarning: Glyph 39764 missing from current font.\n",
            "  font.set_text(s, 0, flags=flags)\n",
            "/usr/local/lib/python3.8/dist-packages/matplotlib/backends/backend_agg.py:183: RuntimeWarning: Glyph 22763 missing from current font.\n",
            "  font.set_text(s, 0, flags=flags)\n"
          ]
        },
        {
          "output_type": "display_data",
          "data": {
            "text/plain": [
              "<Figure size 1440x720 with 1 Axes>"
            ],
            "image/png": "[encoded data removed]"
          },
          "metadata": {}
        }
      ]
    },
    {
      "cell_type": "code",
      "source": [
        "a = Movies_Helpful_Reviews.collect()"
      ],
      "metadata": {
        "id": "lWQCeB_liAxO"
      },
      "execution_count": null,
      "outputs": []
    },
    {
      "cell_type": "code",
      "source": [
        "sns.set(rc = {'figure.figsize':(20,10)})\n",
        "plt.title(\"Hightest number of helpful reviews\")\n",
        "sns.barplot(x=[a[i][0] for i in range(0,5)],y=[a[i][1] for i in range(0,5)], palette='Set2')\n",
        "plt.xlabel(\"Show\")\n",
        "plt.ylabel(\"Year\")\n",
        "plt.show()"
      ],
      "metadata": {
        "colab": {
          "base_uri": "https://localhost:8080/",
          "height": 627
        },
        "id": "brgSHRzYiAIj",
        "outputId": "1cc0038c-a35c-4b9c-b874-352b631f09c3"
      },
      "execution_count": null,
      "outputs": [
        {
          "output_type": "display_data",
          "data": {
            "text/plain": [
              "<Figure size 1440x720 with 1 Axes>"
            ],
            "image/png": "[encoded data removed]"
          },
          "metadata": {}
        }
      ]
    },
    {
      "cell_type": "markdown",
      "source": [
        "# Movies and Tv Shows with the highest number of reviews"
      ],
      "metadata": {
        "id": "xoVTtbQLnCz8"
      }
    },
    {
      "cell_type": "code",
      "source": [
        "Movies_Reviews = Mov.map(lambda x:(extract_text_Movie(x[0]),x[1])).filter(lambda x:x[0] != None)"
      ],
      "metadata": {
        "id": "zi6kujVjn7T4"
      },
      "execution_count": null,
      "outputs": []
    },
    {
      "cell_type": "code",
      "source": [
        "Movies_Reviews.take(5)"
      ],
      "metadata": {
        "colab": {
          "base_uri": "https://localhost:8080/"
        },
        "id": "JNPrTNTJpEPo",
        "outputId": "405bbfe3-94fc-4d7f-908a-f6a83236c01c"
      },
      "execution_count": null,
      "outputs": [
        {
          "output_type": "execute_result",
          "data": {
            "text/plain": [
              "[('Avengers: Endgame', 7788),\n",
              " ('Dil Bechara', 7735),\n",
              " ('Wonder Woman 1984', 6724),\n",
              " ('小丑', 6450),\n",
              " ('Mrs. Serial Killer', 5377)]"
            ]
          },
          "metadata": {},
          "execution_count": 124
        }
      ]
    },
    {
      "cell_type": "code",
      "source": [
        "a = Movies_Reviews.collect()"
      ],
      "metadata": {
        "id": "bSOr8TgHIdvk"
      },
      "execution_count": null,
      "outputs": []
    },
    {
      "cell_type": "code",
      "source": [
        "sns.set(rc = {'figure.figsize':(20,10)})\n",
        "plt.title(\"Hightest number of reviews\")\n",
        "sns.barplot(x=[a[i][0] for i in range(0,5)],y=[a[i][1] for i in range(0,5)], palette='Set2')\n",
        "plt.xlabel(\"Year\")\n",
        "plt.ylabel(\"Movies\")\n",
        "plt.show()"
      ],
      "metadata": {
        "colab": {
          "base_uri": "https://localhost:8080/",
          "height": 766
        },
        "id": "SGBECtTVIdSF",
        "outputId": "0c655ac2-c204-4d85-fd98-bc87637273ee"
      },
      "execution_count": null,
      "outputs": [
        {
          "output_type": "stream",
          "name": "stderr",
          "text": [
            "/usr/local/lib/python3.8/dist-packages/matplotlib/backends/backend_agg.py:214: RuntimeWarning: Glyph 23567 missing from current font.\n",
            "  font.set_text(s, 0.0, flags=flags)\n",
            "/usr/local/lib/python3.8/dist-packages/matplotlib/backends/backend_agg.py:214: RuntimeWarning: Glyph 19985 missing from current font.\n",
            "  font.set_text(s, 0.0, flags=flags)\n",
            "/usr/local/lib/python3.8/dist-packages/matplotlib/backends/backend_agg.py:183: RuntimeWarning: Glyph 23567 missing from current font.\n",
            "  font.set_text(s, 0, flags=flags)\n",
            "/usr/local/lib/python3.8/dist-packages/matplotlib/backends/backend_agg.py:183: RuntimeWarning: Glyph 19985 missing from current font.\n",
            "  font.set_text(s, 0, flags=flags)\n"
          ]
        },
        {
          "output_type": "display_data",
          "data": {
            "text/plain": [
              "<Figure size 1440x720 with 1 Axes>"
            ],
            "image/png": "[encoded data removed]"
          },
          "metadata": {}
        }
      ]
    },
    {
      "cell_type": "code",
      "source": [
        "Tv_Reviews = Mov.map(lambda x:(extract_text_Tv(x[0]),x[1])).filter(lambda x:x[0] != None)"
      ],
      "metadata": {
        "id": "NEnpOPT7o0iz"
      },
      "execution_count": null,
      "outputs": []
    },
    {
      "cell_type": "code",
      "source": [
        "Tv_Reviews.take(5)    "
      ],
      "metadata": {
        "colab": {
          "base_uri": "https://localhost:8080/"
        },
        "id": "G-hJJCF8pGtI",
        "outputId": "d5a3cbd7-af09-4f5d-d99b-29bd6428c1db"
      },
      "execution_count": null,
      "outputs": [
        {
          "output_type": "execute_result",
          "data": {
            "text/plain": [
              "[('Asur: Welcome to Your Dark Side', 3189),\n",
              " ('The Chosen', 2993),\n",
              " ('Dark', 2796),\n",
              " ('獵魔士', 2703),\n",
              " ('Game of Thrones', 2553)]"
            ]
          },
          "metadata": {},
          "execution_count": 128
        }
      ]
    },
    {
      "cell_type": "code",
      "source": [
        "a = Tv_Reviews.collect()"
      ],
      "metadata": {
        "id": "cRFLkio7Imxn"
      },
      "execution_count": null,
      "outputs": []
    },
    {
      "cell_type": "code",
      "source": [
        "sns.set(rc = {'figure.figsize':(20,10)})\n",
        "plt.title(\"Hightest number of  reviews\")\n",
        "sns.barplot(x=[a[i][0] for i in range(0,5)],y=[a[i][1] for i in range(0,5)], palette='Set2')\n",
        "plt.xlabel(\"Year\")\n",
        "plt.ylabel(\"Tv Shows\")\n",
        "plt.show()"
      ],
      "metadata": {
        "colab": {
          "base_uri": "https://localhost:8080/",
          "height": 835
        },
        "id": "IM_uafiuIcRG",
        "outputId": "53c2569a-f9dc-4c4c-8ca9-ff3f358424ed"
      },
      "execution_count": null,
      "outputs": [
        {
          "output_type": "stream",
          "name": "stderr",
          "text": [
            "/usr/local/lib/python3.8/dist-packages/matplotlib/backends/backend_agg.py:214: RuntimeWarning: Glyph 29557 missing from current font.\n",
            "  font.set_text(s, 0.0, flags=flags)\n",
            "/usr/local/lib/python3.8/dist-packages/matplotlib/backends/backend_agg.py:214: RuntimeWarning: Glyph 39764 missing from current font.\n",
            "  font.set_text(s, 0.0, flags=flags)\n",
            "/usr/local/lib/python3.8/dist-packages/matplotlib/backends/backend_agg.py:214: RuntimeWarning: Glyph 22763 missing from current font.\n",
            "  font.set_text(s, 0.0, flags=flags)\n",
            "/usr/local/lib/python3.8/dist-packages/matplotlib/backends/backend_agg.py:183: RuntimeWarning: Glyph 29557 missing from current font.\n",
            "  font.set_text(s, 0, flags=flags)\n",
            "/usr/local/lib/python3.8/dist-packages/matplotlib/backends/backend_agg.py:183: RuntimeWarning: Glyph 39764 missing from current font.\n",
            "  font.set_text(s, 0, flags=flags)\n",
            "/usr/local/lib/python3.8/dist-packages/matplotlib/backends/backend_agg.py:183: RuntimeWarning: Glyph 22763 missing from current font.\n",
            "  font.set_text(s, 0, flags=flags)\n"
          ]
        },
        {
          "output_type": "display_data",
          "data": {
            "text/plain": [
              "<Figure size 1440x720 with 1 Axes>"
            ],
            "image/png": "[encoded data removed]"
          },
          "metadata": {}
        }
      ]
    },
    {
      "cell_type": "markdown",
      "source": [
        "# The Highest Rated Show in each year"
      ],
      "metadata": {
        "id": "5GaXXM8dnUWZ"
      }
    },
    {
      "cell_type": "code",
      "source": [
        "Movies_Years_Ratings = Temp.map(lambda x:((x['movie']),float(x['rating']))).reduceByKey(add)\n",
        "Movies_Years_Ratings = Movies_Years_Ratings.map(lambda x:(extract_year_Movie(x[0]),extract_text_Movie(x[0]),round(x[1]/Movies_Names[x[0]],2))).filter(lambda x:x[0]!= None).filter (lambda x: 3< x[2] <9.5).collect()"
      ],
      "metadata": {
        "id": "ecSypqm2ki1m"
      },
      "execution_count": null,
      "outputs": []
    },
    {
      "cell_type": "code",
      "source": [
        "# Group the tuples by the  (year)\n",
        "sorted_list = sorted(Movies_Years_Ratings, key=itemgetter(0),reverse=True)\n",
        "year_groups = groupby(sorted_list, key=itemgetter(0))\n",
        "Each_Year_Name_Max = {}\n",
        "# Get the  (name) of the tuple with the maximum rating in each year\n",
        "for year, group in year_groups:\n",
        "    max_tuple = max(group, key=lambda x: x[2])\n",
        "    max_name = max_tuple[1]\n",
        "    Each_Year_Name_Max[int(year)] = (max_tuple[1],max_tuple[2])\n",
        "print(\"Maximum names list:\", Each_Year_Name_Max)"
      ],
      "metadata": {
        "colab": {
          "base_uri": "https://localhost:8080/"
        },
        "id": "-VPv3ycNoHxu",
        "outputId": "e446a16c-4f0c-462e-927b-cac7b679fa4b"
      },
      "execution_count": null,
      "outputs": [
        {
          "output_type": "stream",
          "name": "stdout",
          "text": [
            "Maximum names list: {2021: ('Cobra Kai: King Cobra', 9.33), 2020: ('Surge (II)', 9.49), 2019: ('Adventure Boyz', 9.49), 2018: ('Tijuana Jackson: Purpose Over Prison', 9.48), 2017: ('Rockaway', 9.45), 2016: ('Person of Interest: The Day the World Went Away', 9.44), 2015: ('MSG 2 the Messenger', 9.47), 2014: ('We Are Twisted Fucking Sister!', 9.48), 2013: ('Return to the Hiding Place', 9.48), 2012: ('Strawinsky and the Mysterious House', 9.47), 2011: ('TT3D: Closer to the Edge', 9.45), 2010: ('The Walking Dead: Days Gone Bye', 9.45), 2009: ('Monpura', 9.42), 2008: ('The Office: Goodbye, Toby', 9.44), 2007: ('Doctor Who: Blink', 9.44), 2006: ('Last Stop for Paul', 9.45), 2005: ('Doctor Who: Dalek', 9.44), 2004: ('Lost: Pilot: Part 2', 9.4), 2003: ('Interstella 5555: The 5tory of the 5ecret 5tar 5ystem', 9.45), 2002: ('Tipping the Velvet', 9.44), 2001: ('The Sopranos: Employee of the Month', 9.4), 2000: ('Beyond the Pale', 9.4), 1999: ('綠色奇蹟', 9.33), 1998: (\"Friends: The One with Ross's Wedding: Part 2\", 9.43), 1997: ('Yes Boss', 9.4), 1996: ('Tenchi the Movie - Tenchi Muyo in Love', 9.44), 1995: ('玩具總動員', 9.45), 1994: ('阿甘正傳', 9.45), 1993: ('The X-Files: Squeeze', 9.44), 1992: ('The Jacksons: An American Dream', 9.4), 1991: ('The Simpsons: Stark Raving Dad', 9.43), 1990: ('Star Trek: The Next Generation: The Best of Both Worlds', 9.4), 1989: ('Blackadder Goes Forth', 9.44), 1988: ('Kogel-mogel', 9.33), 1987: ('Made in Heaven', 9.43), 1986: ('The Return of Sherlock Holmes: The Musgrave Ritual', 9.4), 1985: ('紫色姐妹花', 9.43), 1984: ('Minder: Get Daley', 9.33), 1983: ('Sagara Sangamam', 9.43), 1982: ('洛基3', 9.33), 1981: ('Little House on the Prairie: Sylvia (Part One)', 9.33), 1980: ('M*A*S*H: Morale Victory', 9.33), 1979: ('異形', 9.48), 1978: ('Paradise Alley', 9.4), 1977: (\"The Galton & Simpson Playhouse: I Tell You It's Burt Reynolds\", 9.33), 1976: ('Manthan', 9.33), 1975: ('大白鯊', 9.42), 1974: ('Cani arrabbiati', 9.33), 1973: ('Ladies and Gentlemen: The Rolling Stones', 9.43), 1972: ('巴黎最後探戈', 9.33), 1971: ('Zvahlav aneb Saticky Slameného Huberta', 9.33), 1970: ('Pratidwandi', 9.4), 1969: ('Hawaii Five-O: Up Tight', 9.4), 1968: ('Interlude', 9.4), 1967: ('De Nacht van Inspecteur Tibbs', 9.44), 1966: ('The Trap', 9.4), 1965: ('The Avengers: Man-Eater of Surrey Green', 9.33), 1964: ('Nothing But a Man', 9.42), 1963: ('The Andy Griffith Show: The Haunted House', 9.4), 1962: ('The Twilight Zone: The Changing of the Guard', 9.35), 1961: ('Gunsmoke: Long, Long Trail', 9.44), 1960: ('The Lady with the Dog', 9.4), 1959: ('Les quatre cents coups', 9.4), 1958: ('Popiól i diament', 9.33), 1957: ('Woman in a Dressing Gown', 9.43), 1956: (\"The Honeymooners: A Man's Pride\", 9.33), 1955: ('One Froggy Evening', 9.4), 1954: ('七武士', 9.25), 1953: ('From A to Z-Z-Z-Z', 9.33), 1952: ('The Four Poster', 9.33), 1951: ('地球末日記', 9.25), 1950: ('Rabbit of Seville', 9.43), 1949: ('Bear Feat', 9.33), 1948: ('Dough Ray Me-ow', 9.33), 1947: ('The Enchanted Square', 9.33), 1946: ('The Stone Flower', 9.33), 1945: ('Draftee Daffy', 9.33), 1944: ('The Million Dollar Cat', 9.33), 1943: ('Tortoise Wins by a Hare', 9.4), 1942: ('Billy the Kid Trapped', 9.33), 1941: ('Joe Glow, the Firefly', 9.0), 1940: ('A Plumbing We Will Go', 9.25), 1939: (\"Alfalfa's Aunt\", 9.33), 1938: ('Daffy Duck & Egghead', 9.33), 1937: ('De stormduivels', 9.4), 1936: ('富貴浮雲', 9.33), 1935: ('The Band Concert', 9.43), 1934: ('一夜風流', 9.33), 1933: ('Only Yesterday', 9.33), 1932: (\"Mickey's Good Deed\", 9.25), 1931: ('M - Eine Stadt sucht einen Mörder', 9.33), 1930: ('Crying for the Carolines', 9.33), 1929: ('They Go Boom!', 9.0), 1928: (\"You're Darn Tootin'\", 9.4), 1927: ('Napoleon', 9.27), 1926: ('That Model from Paris', 9.0), 1925: ('The Night Club', 9.0), 1924: ('Der letzte Mann', 9.33), 1923: ('False Alarm', 9.0), 1922: ('Saturday Night', 9.0), 1921: ('The Pickaninny', 9.0), 1920: ('卡里加利博士的小屋', 9.33), 1919: ('The Log of the U-35', 9.0), 1918: ('My Cousin', 9.0), 1917: ('The Adventurer (I)', 9.17), 1916: ('The Pawnshop', 9.25), 1915: ('Dizzy Heights and Daring Hearts', 9.0), 1914: ('The Temple of Moloch', 9.0), 1913: ('Lime Kiln Club Field Day', 9.0), 1912: ('The New York Hat', 9.0), 1911: (\"Zigoto et l'affaire du collier\", 9.0), 1910: ('Acrobati comici', 9.0), 1909: ('The Invisible Thief', 9.0), 1908: (\"L'hôtel du silence\", 9.0), 1907: ('A Little Girl Who Did Not Believe in Santa Claus', 8.0), 1906: ('A Day with the Gipsies', 9.0), 1905: (\"The Burglar's Slide for Life\", 9.0), 1904: ('A Railway Tragedy', 9.0), 1903: ('Arrival of Humpty Dumpty', 9.0), 1902: ('The Little Match Seller', 8.5), 1901: ('The Clown with the Portable Body', 9.0), 1900: ('The Kiss', 9.0), 1899: ('In the Grip of the Blizzard', 9.0), 1898: (\"Exécution de Jeanne d'Arc\", 8.5), 1897: ('The Hallucinated Alchemist', 9.0), 1896: ('Danseuses des rues', 9.0), 1895: ('The Waterer Watered', 9.0), 1894: (\"The Boxing Cats (Prof. Welton's)\", 7.0), 1893: ('Blacksmith Scene', 6.25), 1892: ('Pauvre Pierrot', 7.12), 1891: ('Je vous aime', 7.0), 1890: ('Mosquinha', 8.0), 1888: ('Roundhay Garden Scene', 9.28), 1887: ('Cockatoo Flying', 8.0), 1883: ('Buffalo Running', 8.0), 1881: ('Athlete Swinging a Pick', 7.0), 1878: ('Sallie Gardner at a Gallop', 7.0), 1874: ('Passage de Venus', 6.0), 1865: ('Bull: A Fine Example of a Victorian Chess Set (1865)', 8.0), 1863: ('The Civil War: Simply Murder (1863)', 9.0)}\n"
          ]
        }
      ]
    },
    {
      "cell_type": "code",
      "source": [
        "years = []\n",
        "for count,i in enumerate(Each_Year_Name_Max.keys()):\n",
        "  if count == 5:\n",
        "    break\n",
        "  years.append(i)\n"
      ],
      "metadata": {
        "id": "C2JOib_MaDfv"
      },
      "execution_count": null,
      "outputs": []
    },
    {
      "cell_type": "code",
      "source": [
        "shows = []\n",
        "for count,i in enumerate(Each_Year_Name_Max.values()):\n",
        "  if count == 5:\n",
        "    break\n",
        "  print(i)\n",
        "  shows.append(i)"
      ],
      "metadata": {
        "colab": {
          "base_uri": "https://localhost:8080/"
        },
        "id": "oAxrJ4Qta8YY",
        "outputId": "71578bee-6da0-4387-9c16-430b7efa1d0f"
      },
      "execution_count": null,
      "outputs": [
        {
          "output_type": "stream",
          "name": "stdout",
          "text": [
            "('Cobra Kai: King Cobra', 9.33)\n",
            "('Surge (II)', 9.49)\n",
            "('Adventure Boyz', 9.49)\n",
            "('Tijuana Jackson: Purpose Over Prison', 9.48)\n",
            "('Rockaway', 9.45)\n"
          ]
        }
      ]
    },
    {
      "cell_type": "code",
      "source": [
        "### Not working\n",
        "sns.set(rc = {'figure.figsize':(25,15)})\n",
        "plt.title(\"Highest Rated Movie in each Year\")\n",
        "sns.barplot(x=[i for i in years  ],y=[i[1] for i in shows], palette='Set2')\n",
        "plt.xlabel(\"Year\")\n",
        "plt.ylabel(\"Tv Shows\")\n",
        "plt.show()"
      ],
      "metadata": {
        "colab": {
          "base_uri": "https://localhost:8080/",
          "height": 899
        },
        "id": "aNMu_A0VPsAH",
        "outputId": "a2d0d8c8-318f-42ba-af07-5afa97cfbcef"
      },
      "execution_count": null,
      "outputs": [
        {
          "output_type": "display_data",
          "data": {
            "text/plain": [
              "<Figure size 1800x1080 with 1 Axes>"
            ],
            "image/png": "[encoded data removed]"
          },
          "metadata": {}
        }
      ]
    },
    {
      "cell_type": "markdown",
      "source": [
        "# Years and number of movies and tv shows released"
      ],
      "metadata": {
        "id": "v4NyuHg5nZW-"
      }
    },
    {
      "cell_type": "code",
      "source": [
        "Movies_Each_Year = Temp.map(lambda x:(extract_year_Movie(x['movie']),1)).filter(lambda x:x[0] != None).reduceByKey(lambda a, b: a + b)"
      ],
      "metadata": {
        "id": "sNOpPVP1nY4p"
      },
      "execution_count": null,
      "outputs": []
    },
    {
      "cell_type": "code",
      "source": [
        "Movies_Each_Year.take(10)"
      ],
      "metadata": {
        "colab": {
          "base_uri": "https://localhost:8080/"
        },
        "id": "RxEzkslwgivC",
        "outputId": "8d12ae76-157e-4e70-840c-0b768c7a9a8b"
      },
      "execution_count": null,
      "outputs": [
        {
          "output_type": "execute_result",
          "data": {
            "text/plain": [
              "[('1993', 8824),\n",
              " ('1979', 6085),\n",
              " ('1977', 5469),\n",
              " ('1980', 7132),\n",
              " ('2011', 48874),\n",
              " ('1997', 26767),\n",
              " ('1974', 5722),\n",
              " ('1922', 457),\n",
              " ('1944', 2677),\n",
              " ('1973', 6089)]"
            ]
          },
          "metadata": {},
          "execution_count": 135
        }
      ]
    },
    {
      "cell_type": "code",
      "source": [
        "a = Movies_Each_Year.collect()"
      ],
      "metadata": {
        "id": "cLUDk0_vZVFz"
      },
      "execution_count": null,
      "outputs": []
    },
    {
      "cell_type": "code",
      "source": [
        "sns.set(rc = {'figure.figsize':(20,10)})\n",
        "plt.title(\"Number of Movies Per Year\")\n",
        "sns.barplot(x=[a[i][0] for i in range(0,5)],y=[a[i][1] for i in range(0,5)], palette='Set2')\n",
        "plt.xlabel(\"Year\")\n",
        "plt.ylabel(\"Movies\")\n",
        "plt.show()"
      ],
      "metadata": {
        "colab": {
          "base_uri": "https://localhost:8080/",
          "height": 627
        },
        "id": "cUTcc6tPZUMu",
        "outputId": "610a92b0-83df-465a-df22-f0d036fc3b95"
      },
      "execution_count": null,
      "outputs": [
        {
          "output_type": "display_data",
          "data": {
            "text/plain": [
              "<Figure size 1440x720 with 1 Axes>"
            ],
            "image/png": "[encoded data removed]"
          },
          "metadata": {}
        }
      ]
    },
    {
      "cell_type": "code",
      "source": [
        "Tv_Each_Year = Temp.map(lambda x:(extract_years_Tv(x['movie']),1)).filter(lambda x:x[0] != None).map(lambda x:(x[0].strip(')(').split('-')[0],x[1])).reduceByKey(lambda a, b: a + b)"
      ],
      "metadata": {
        "id": "NwwS4nY_fKkO"
      },
      "execution_count": null,
      "outputs": []
    },
    {
      "cell_type": "code",
      "source": [
        "Tv_Each_Year.take(10)"
      ],
      "metadata": {
        "colab": {
          "base_uri": "https://localhost:8080/"
        },
        "id": "Kebz5t2TgvbA",
        "outputId": "59b3d975-48e3-4d88-ec38-4267a92030cb"
      },
      "execution_count": null,
      "outputs": [
        {
          "output_type": "execute_result",
          "data": {
            "text/plain": [
              "[('1993', 860),\n",
              " ('1979', 273),\n",
              " ('2011', 11130),\n",
              " ('1980', 193),\n",
              " ('1977', 236),\n",
              " ('1997', 1435),\n",
              " ('1973', 220),\n",
              " ('1974', 257),\n",
              " ('2021', 533),\n",
              " ('2017', 29396)]"
            ]
          },
          "metadata": {},
          "execution_count": 139
        }
      ]
    },
    {
      "cell_type": "code",
      "source": [
        "a = Tv_Each_Year.collect()"
      ],
      "metadata": {
        "id": "i1ezfZD7ZfQz"
      },
      "execution_count": null,
      "outputs": []
    },
    {
      "cell_type": "code",
      "source": [
        "sns.set(rc = {'figure.figsize':(20,10)})\n",
        "plt.title(\"Number of Tv Shows Per Year\")\n",
        "sns.barplot(x=[a[i][0] for i in range(0,5)],y=[a[i][1] for i in range(0,5)], palette='Set2')\n",
        "plt.xlabel(\"Year\")\n",
        "plt.ylabel(\"Tv Shows\")\n",
        "plt.show()"
      ],
      "metadata": {
        "colab": {
          "base_uri": "https://localhost:8080/",
          "height": 627
        },
        "id": "LOYLxoW9ZfVu",
        "outputId": "aa3d3558-31ca-4ac5-d187-69ede881dcbc"
      },
      "execution_count": null,
      "outputs": [
        {
          "output_type": "display_data",
          "data": {
            "text/plain": [
              "<Figure size 1440x720 with 1 Axes>"
            ],
            "image/png": "[encoded data removed]"
          },
          "metadata": {}
        }
      ]
    },
    {
      "cell_type": "code",
      "source": [],
      "metadata": {
        "id": "4gqwdgg4Z5Sk"
      },
      "execution_count": null,
      "outputs": []
    }
  ]
}
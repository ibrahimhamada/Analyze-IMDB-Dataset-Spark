{
  "nbformat": 4,
  "nbformat_minor": 0,
  "metadata": {
    "colab": {
      "provenance": [],
      "collapsed_sections": [
        "FT3ACDiwkTb1"
      ]
    },
    "kernelspec": {
      "name": "python3",
      "display_name": "Python 3"
    },
    "language_info": {
      "name": "python"
    }
  },
  "cells": [
    {
      "cell_type": "markdown",
      "metadata": {
        "id": "GnArcM5AnIDD"
      },
      "source": [
        "# Install Pyspark"
      ]
    },
    {
      "cell_type": "code",
      "source": [
        "!pip install pyspark"
      ],
      "metadata": {
        "colab": {
          "base_uri": "https://localhost:8080/"
        },
        "id": "3Iv3qw3HXsX-",
        "outputId": "530cf294-2fb4-4708-d019-9f9fd19c6105"
      },
      "execution_count": 1,
      "outputs": [
        {
          "output_type": "stream",
          "name": "stdout",
          "text": [
            "Looking in indexes: https://pypi.org/simple, https://us-python.pkg.dev/colab-wheels/public/simple/\n",
            "Collecting pyspark\n",
            "  Downloading pyspark-3.3.1.tar.gz (281.4 MB)\n",
            "\u001b[2K     \u001b[90m━━━━━━━━━━━━━━━━━━━━━━━━━━━━━━━━━━━━━━━\u001b[0m \u001b[32m281.4/281.4 MB\u001b[0m \u001b[31m4.8 MB/s\u001b[0m eta \u001b[36m0:00:00\u001b[0m\n",
            "\u001b[?25h  Preparing metadata (setup.py) ... \u001b[?25l\u001b[?25hdone\n",
            "Collecting py4j==0.10.9.5\n",
            "  Downloading py4j-0.10.9.5-py2.py3-none-any.whl (199 kB)\n",
            "\u001b[2K     \u001b[90m━━━━━━━━━━━━━━━━━━━━━━━━━━━━━━━━━━━━━━\u001b[0m \u001b[32m199.7/199.7 KB\u001b[0m \u001b[31m20.3 MB/s\u001b[0m eta \u001b[36m0:00:00\u001b[0m\n",
            "\u001b[?25hBuilding wheels for collected packages: pyspark\n",
            "  Building wheel for pyspark (setup.py) ... \u001b[?25l\u001b[?25hdone\n",
            "  Created wheel for pyspark: filename=pyspark-3.3.1-py2.py3-none-any.whl size=281845512 sha256=1cae79eeb23d47a1f4a83a2c8ddc29e6285e0eda8cec45ba4b526e6c568a381f\n",
            "  Stored in directory: /root/.cache/pip/wheels/43/dc/11/ec201cd671da62fa9c5cc77078235e40722170ceba231d7598\n",
            "Successfully built pyspark\n",
            "Installing collected packages: py4j, pyspark\n",
            "Successfully installed py4j-0.10.9.5 pyspark-3.3.1\n"
          ]
        }
      ]
    },
    {
      "cell_type": "markdown",
      "metadata": {
        "id": "LqzsaLCnnRrv"
      },
      "source": [
        "# Imports"
      ]
    },
    {
      "cell_type": "code",
      "source": [
        "import pyspark\n",
        "from pyspark import SparkContext\n",
        "from pyspark.sql.session import SparkSession\n",
        "import re\n",
        "import json\n",
        "import itertools\n",
        "import ast\n",
        "import seaborn as sns\n",
        "import matplotlib.pyplot as plt\n",
        "from matplotlib.pyplot import figure\n",
        "import pandas as pd\n",
        "from operator import add\n",
        "import numpy as np\n",
        "import nltk \n",
        "from textblob import TextBlob\n",
        "from textblob import Word\n",
        "from nltk.corpus import stopwords\n",
        "\n",
        "\n",
        "from sklearn import metrics "
      ],
      "metadata": {
        "id": "J5N4HsjGXuXS"
      },
      "execution_count": 2,
      "outputs": []
    },
    {
      "cell_type": "code",
      "source": [
        "# Imports\n",
        "from pyspark.ml.feature import HashingTF, IDF, Tokenizer, StopWordsRemover\n",
        "from pyspark.ml.classification import RandomForestClassifier\n",
        "from pyspark.ml.tuning import CrossValidator, ParamGridBuilder\n",
        "from pyspark.ml.feature import VectorAssembler, Imputer , StandardScaler\n",
        "from pyspark.ml.classification import NaiveBayes"
      ],
      "metadata": {
        "id": "NW0A6x8HRgi1"
      },
      "execution_count": 3,
      "outputs": []
    },
    {
      "cell_type": "code",
      "source": [
        "# Imports\n",
        "from pyspark.ml import Pipeline\n",
        "from pyspark.ml.classification import LogisticRegression\n",
        "from pyspark.ml.feature import Tokenizer, StopWordsRemover, HashingTF, IDF, StringIndexer\n",
        "from pyspark.ml.evaluation import BinaryClassificationEvaluator, MulticlassClassificationEvaluator"
      ],
      "metadata": {
        "id": "4gZhcjntZAV6"
      },
      "execution_count": 4,
      "outputs": []
    },
    {
      "cell_type": "code",
      "source": [
        "from pyspark.sql.types import *\n",
        "import pyspark.sql.functions as F\n",
        "from pyspark.sql.functions import udf, col\n",
        "\n",
        "from pyspark.ml.regression import LinearRegression\n",
        "from pyspark.mllib.evaluation import RegressionMetrics\n",
        "\n",
        "from pyspark.ml.tuning import ParamGridBuilder, CrossValidator, CrossValidatorModel\n",
        "from pyspark.ml.feature import VectorAssembler, StandardScaler\n",
        "from pyspark.ml.evaluation import RegressionEvaluator"
      ],
      "metadata": {
        "id": "QNKM8Mc4FJ5R"
      },
      "execution_count": 5,
      "outputs": []
    },
    {
      "cell_type": "code",
      "execution_count": 6,
      "metadata": {
        "colab": {
          "base_uri": "https://localhost:8080/"
        },
        "id": "iIyP73soBXco",
        "outputId": "42f2b7c1-35d1-4b1d-efa9-ad8fc0a1810f"
      },
      "outputs": [
        {
          "output_type": "stream",
          "name": "stdout",
          "text": [
            "Mounted at /content/drive\n"
          ]
        }
      ],
      "source": [
        "from google.colab import drive\n",
        "drive.mount('/content/drive',force_remount=True)"
      ]
    },
    {
      "cell_type": "markdown",
      "source": [
        "# Download Data"
      ],
      "metadata": {
        "id": "FT3ACDiwkTb1"
      }
    },
    {
      "cell_type": "code",
      "execution_count": null,
      "metadata": {
        "id": "T2I2wPz7GYkw"
      },
      "outputs": [],
      "source": [
        "#!pip install --upgrade --no-cache-dir gdown"
      ]
    },
    {
      "cell_type": "code",
      "execution_count": null,
      "metadata": {
        "id": "VOJykM7mOUvJ"
      },
      "outputs": [],
      "source": [
        "#!gdown --id 1Ba72Gnrjre0KPqhWbQPbyYR3XBguosGf"
      ]
    },
    {
      "cell_type": "code",
      "execution_count": null,
      "metadata": {
        "id": "p-FhtqwnOWm-"
      },
      "outputs": [],
      "source": [
        "#!unzip 'imdb-review-dataset.zip' -d '/content/drive/MyDrive/BigData_FinalProject/Data'"
      ]
    },
    {
      "cell_type": "code",
      "source": [
        "#!cp '/content/imdb-review-dataset.zip' '/content/drive/MyDrive/BigData_FinalProject'"
      ],
      "metadata": {
        "id": "ve9lLLv0mDJ3"
      },
      "execution_count": null,
      "outputs": []
    },
    {
      "cell_type": "code",
      "source": [
        "'''\n",
        "! pip install kaggle\n",
        "! mkdir ~/.kaggle\n",
        "!cp /content/drive/MyDrive/BigData_FinalProject/kaggle.json ~/.kaggle/kaggle.json\n",
        "! chmod 600 ~/.kaggle/kaggle.json\n",
        "'''"
      ],
      "metadata": {
        "colab": {
          "base_uri": "https://localhost:8080/"
        },
        "id": "SGB-L1eKQhd8",
        "outputId": "e5dbdfb7-e28c-44bd-9df6-52fc07e8949d"
      },
      "execution_count": null,
      "outputs": [
        {
          "output_type": "stream",
          "name": "stdout",
          "text": [
            "Looking in indexes: https://pypi.org/simple, https://us-python.pkg.dev/colab-wheels/public/simple/\n",
            "Requirement already satisfied: kaggle in /usr/local/lib/python3.8/dist-packages (1.5.12)\n",
            "Requirement already satisfied: certifi in /usr/local/lib/python3.8/dist-packages (from kaggle) (2022.12.7)\n",
            "Requirement already satisfied: six>=1.10 in /usr/local/lib/python3.8/dist-packages (from kaggle) (1.15.0)\n",
            "Requirement already satisfied: urllib3 in /usr/local/lib/python3.8/dist-packages (from kaggle) (1.24.3)\n",
            "Requirement already satisfied: python-slugify in /usr/local/lib/python3.8/dist-packages (from kaggle) (7.0.0)\n",
            "Requirement already satisfied: tqdm in /usr/local/lib/python3.8/dist-packages (from kaggle) (4.64.1)\n",
            "Requirement already satisfied: requests in /usr/local/lib/python3.8/dist-packages (from kaggle) (2.25.1)\n",
            "Requirement already satisfied: python-dateutil in /usr/local/lib/python3.8/dist-packages (from kaggle) (2.8.2)\n",
            "Requirement already satisfied: text-unidecode>=1.3 in /usr/local/lib/python3.8/dist-packages (from python-slugify->kaggle) (1.3)\n",
            "Requirement already satisfied: chardet<5,>=3.0.2 in /usr/local/lib/python3.8/dist-packages (from requests->kaggle) (4.0.0)\n",
            "Requirement already satisfied: idna<3,>=2.5 in /usr/local/lib/python3.8/dist-packages (from requests->kaggle) (2.10)\n"
          ]
        }
      ]
    },
    {
      "cell_type": "code",
      "source": [
        "#! kaggle datasets download ebiswas/imdb-review-dataset"
      ],
      "metadata": {
        "colab": {
          "base_uri": "https://localhost:8080/"
        },
        "id": "ky3-viO7Q5z8",
        "outputId": "371affc4-b620-4cf0-febe-1c4eda05e200"
      },
      "execution_count": null,
      "outputs": [
        {
          "output_type": "stream",
          "name": "stdout",
          "text": [
            "Downloading imdb-review-dataset.zip to /content\n",
            "100% 2.69G/2.69G [00:23<00:00, 132MB/s]\n",
            "100% 2.69G/2.69G [00:23<00:00, 124MB/s]\n"
          ]
        }
      ]
    },
    {
      "cell_type": "code",
      "source": [
        "#!unzip imdb-review-dataset.zip"
      ],
      "metadata": {
        "colab": {
          "base_uri": "https://localhost:8080/"
        },
        "id": "SQGIWnkuM5jx",
        "outputId": "2f09cd30-4170-4488-95ae-ada160fde829"
      },
      "execution_count": null,
      "outputs": [
        {
          "output_type": "stream",
          "name": "stdout",
          "text": [
            "Archive:  imdb-review-dataset.zip\n",
            "  inflating: part-01.json            \n",
            "  inflating: part-02.json            \n",
            "  inflating: part-03.json            \n",
            "  inflating: part-04.json            \n",
            "  inflating: part-05.json            \n",
            "  inflating: part-06.json            \n",
            "  inflating: sample.json             \n"
          ]
        }
      ]
    },
    {
      "cell_type": "code",
      "source": [
        "#!unzip 'imdb-review-dataset.zip' -d '/content/drive/MyDrive/BigData_FinalProject/Data'"
      ],
      "metadata": {
        "id": "w73vCSIXMqOU"
      },
      "execution_count": null,
      "outputs": []
    },
    {
      "cell_type": "code",
      "source": [
        "'''\n",
        "f = open('/content/drive/MyDrive/BigData_FinalProject/Data/sample.json')\n",
        "data = json.load(f)\n",
        "'''"
      ],
      "metadata": {
        "id": "1V2ASRoHigRT"
      },
      "execution_count": null,
      "outputs": []
    },
    {
      "cell_type": "code",
      "source": [
        "'''\n",
        "with open(f'new.json', 'a') as f:\n",
        "    json.dump(data[0:50000], f)\n",
        "'''"
      ],
      "metadata": {
        "id": "XzLQnssQWg-H"
      },
      "execution_count": null,
      "outputs": []
    },
    {
      "cell_type": "code",
      "source": [
        "#new_data = json.load(open('new.json'))"
      ],
      "metadata": {
        "id": "t_3bCOGoVBpR"
      },
      "execution_count": null,
      "outputs": []
    },
    {
      "cell_type": "code",
      "source": [
        "#!cp '/content/new.json' '/content/drive/MyDrive/BigData_FinalProject'"
      ],
      "metadata": {
        "id": "kwqiybeWn9LY"
      },
      "execution_count": null,
      "outputs": []
    },
    {
      "cell_type": "markdown",
      "metadata": {
        "id": "OJoosyTSKjP4"
      },
      "source": [
        "### 1. Data Cleaning"
      ]
    },
    {
      "cell_type": "markdown",
      "metadata": {
        "id": "2cbAS12mnHS4"
      },
      "source": [
        "# Create Spark Context and Session"
      ]
    },
    {
      "cell_type": "code",
      "execution_count": 7,
      "metadata": {
        "id": "-NuJVCOAnYME"
      },
      "outputs": [],
      "source": [
        "# Creating spark context\n",
        "sc = pyspark.SparkContext(appName=\"Final_Project\")\n",
        "# Create a spark session\n",
        "spark = SparkSession(sc)"
      ]
    },
    {
      "cell_type": "markdown",
      "source": [
        "## Reading the data by Spark (Dataframes)"
      ],
      "metadata": {
        "id": "q2grhyyDj-hu"
      }
    },
    {
      "cell_type": "code",
      "execution_count": 8,
      "metadata": {
        "id": "3KwVGir-A6Qk"
      },
      "outputs": [],
      "source": [
        "# Reading the data and combine all parts in a single RDD\n",
        "path = '/content/drive/MyDrive/BigData_FinalProject/part1files/*.json'\n",
        "data_rdd = spark.read.option(\"multiline\",\"true\").json(path).rdd"
      ]
    },
    {
      "cell_type": "code",
      "source": [
        "data_rdd.take(5)"
      ],
      "metadata": {
        "colab": {
          "base_uri": "https://localhost:8080/"
        },
        "id": "7LBibpKSbYi3",
        "outputId": "a7757414-9d1d-4c06-baef-a1a461406356"
      },
      "execution_count": 9,
      "outputs": [
        {
          "output_type": "execute_result",
          "data": {
            "text/plain": [
              "[Row(helpful=['5', '12'], movie='蜘蛛人：離家日 (2019)', rating='5', review_date='1 October 2019', review_detail='It\\'s been just a few months since we\\'ve witnessed the final episode of the Marvel saga that went on for ten years. A convergence point of such grandeur might suggest that from now on the Marvel world would follow a different path, giving us something truly new.However, the story of Spider-Man: Far from Home feels like an inverted mirror allusion to what the film itself tries to do with the established universe: selling us a bunch of illusions we\\'d be eager to believe in simply because we wanna be fooled.With the Infinity Saga, we came to believe that all that superhero sci-fi extravaganza happening on screen actually has a deeper meaning, a layer for every major focus group, something most of us would not be ashamed to openly like. With that saga over, however, we\\'re left with a bunch of secondary guys previously introduced mostly as filler, a few major characters past their prime, and a golden kid. Who hasn\\'t been charmed by that cute Peter Parker boy, his politically correct sidekick and a pretty but intentionally awkward love interest!And this is what Marvel is gonna sell us from now on. Cuteness, tolerable acting (nothing stellar, but nothing cringey too), and ok writing. Just like the posse Mysterio has gathered to prove his point, this set of traits seems to be just enough to keep the audience engaged, and the cash flow going in. Because nobody requires a groundbreaking story or insanely prominent characters anymore - now it\\'s just enough to maintain the existing momentum without messing up.Was this film a mess? Definitely not. Was it anything more than just a pretty image hollow within? I wouldn\\'t say so. But as long as everyone\\'s looking at the colorful objects flying around with a loud boom, the magician is free to take out as many rabbits out of his fake hat. We just don\\'t care to go deeper anymore. And this carousel of generic storytelling will just keep on spinning, until either we\\'re so dizzy we start puking this Marvel drivel back, or their projectors start falling off and the illusion breaks apart.Unfortunately, none of the above is gonna happen any time soon. So, put the Cap helmet on and start saying \"Hail Marvel\" before someone finds your lack of faith disturbing.', review_id='rw5154787', review_summary='The illusion factory is back', reviewer='Semisonic', spoiler_tag=0),\n",
              " Row(helpful=['2', '3'], movie='Star Trek: A Piece of the Action (1968) Season 2, Episode 17', rating='3', review_date='1 October 2019', review_detail='I can\\'t say this is the worst Star Trek episode, not when there\\'s stuff around like \"The Squire of Gothos,\" \"Shore Leave,\" and \"I Mudd.\" But it\\'s really bad. And I have a grudge against it that\\'s hard to define.STAR TREK was a show that dared to dream about the future . . . that dared to imagine an era when man overcame evil, greed, and corruption and set out to discover the galaxy in peace. Well, that\\'s a wonderful vision, a wonderful achievement. But the drawback is that \"evil\" in these original episodes is either seen as a relic, or a joke. And that sometimes makes Star Trek itself seem shallow. Not often, but certainly this time around. And the irony is that the \"evil\" of the mob, of organized crime, proved to be a lot more resilient (at least in popular culture) than Star Trek ever suggested!When this movie aired, mob movies had become a joke, and quality mob shows had disappeared from television. Yet less than five years later, THE GODFATHER began an extraordinary Renaissance for mob drama, a Renaissance that has lasted right down to the present day. In retrospect, playing the mob \"for laughs\" was tone deaf because there was still a lot more to say about what crime has meant, can mean, and will mean, in America and the world.\"Do I think that organized crime will pack it\\'s bags and go the way of the Dodo?\" No, I don\\'t. I think this episode plays for cheap laughs, where a show like THE SOPRANOS provides plenty of laughs and still asks universal and uncomfortable questions about the nature of evil. What I\\'d really like is to see a piece of full-length fan fiction where James T. Kirk goes head to head with Tony Soprano, not in some campy goof but in deadly seriousness.Because that\\'s what fan fiction is for!', review_id='rw5154791', review_summary=\"I've Got A Grudge Against These Guys!\", reviewer='Dan1863Sickles', spoiler_tag=0),\n",
              " Row(helpful=['8', '9'], movie='流星花園 (2018– )', rating='3', review_date='1 October 2019', review_detail='This rating has nothing to do with the acting, the cinematography, or any of the technical aspects. Everybody does a good job and they should be proud of themselves. I seriously can\\'t recommend this show because it basically glorifies an abusive relationship.(Before I begin I should also mention that I\\'ve only watched the first eight episodes. More on that later.)The premise is that our plucky heroine, Dong Shancai, stands up to four snooty, hot, rich guys (called the F4) who somehow obtained celebrity status in a densely populated university. More specifically, Shancai gets the attention of two guys: the knight in shining armour Huaze Lei and the bad boy Daoming Si. What I thought was going to be a series about a love pentagon turns into a confused love triangle that, while amusing, feels kind of aimless. Don\\'t get me wrong--the show -is- entertaining enough. But things just happen, get sort of resolved, and then everybody moves on like none of it happened. I\\'m having trouble describing it...but the series just doesn\\'t feel like it\\'s really building towards anything, except Daoming Si and Shancai becoming a couple. Which...just happens one day? Without her consent, mind you.Okay, I\\'ve gotta talk about our main couple, because they drove me crazy. Dong Shancai is actually a really good person, and it\\'s not hard to see why the guys fall in love with her. Daoming Si, on the other hand, is TERRIFYING. He breaks into Shancai\\'s locker on multiple occasions, follows her home at least twice, slaps her across the face with food that he ordered from her mom\\'s restaurant, steals her shoes and ruins them, aggressively pushes her to the ground in the university cafeteria, and he almost beats her at one point out of jealous rage, but decides to force kiss her instead. This isn\\'t the kind of guy young girls should be swooning over! This is someone you call the cops over! And if people are on their best behaviour when they\\'re dating, then I shudder to think of what their relationship would look like after they\\'ve been married twenty years...!What\\'s infuriating is that all the supporting characters seem to think that Daoming Si is just the greatest. Shancai\\'s parents want her put a ring on it as soon as possible, his friends just hand wave his actions as \"immature\"... The only one who really seems to see what\\'s going on is Huaze Lei, but he\\'s so absent in the plot that he barely does anything. We hear a bit about how Daoming Si\\'s dad died when he was young and how, deep down, he\\'s lonely because his mom took over the family business, but none of that excuses the fact that Daoming Si is a violent, manipulative stalker!The reason my mom and I stopped watching after eight episodes is because episode eight ends with Daoming Si \"breaking up\" with Shancai because he thinks she\\'s cheating on him with Huaze Lei. (I put \"breaking up\" in quotations because she never consented to their relationship to begin with, and he just kept calling her his girlfriend anyway.) And this really is the best possible solution. Even if Shancai and Lei don\\'t end up getting together, she was just given a way out of that relationship. I don\\'t want to keep watching just to see what lame-brain excuse the show comes up with to get Shancai and Daoming Si back together. Lei was a much better guy for Shancai anyway.In the interest of talking about the rest of the show, there are some things I really liked. The deep exploration/breakdown of the friendship between Dong Shancai and Li Zhen alone makes this show worth watching. (Almost.) I won\\'t spoil it, but it\\'s surprisingly well written for a show that seems to be absolutely oblivious to how abusive Daoming Si is. Hat\\'s off to you.A couple of the other side characters worth mentioning... First, I\\'d like to say that the last two members of the F4, Feng Meizuo and Ximen Yan, are kind of terrible people. There\\'s a scene where Daoming Si is getting drunk over Shancai related woes, and the two of them plot to knock him unconscious and drag him home because they\\'re tired of waiting for him to pass out. Because that\\'s what good friends do. They look out for their own interests over the well being of their emotionally distressed childhood friend.Next there\\'s Shancai\\'s guy best friend who is A: deep in the friend zone, and B: only really there to make the F4 look better. I mean just...daaannnggg...Lastly, there\\'s the girl that Huaze Lei is head over heels in love with, Teng Tang Jing. Her character...confuses me. She fluctuates between being a really nice person, to being aloof and apathetic to the point of being manipulative. What really gets me is how she treats Lei with such indifference. He\\'s madly in love with her, but he treats him like he\\'s disposable. Is she a good person or isn\\'t she, show? Is there some evil twin running around that we should know about? Or is this a Dr. Jekyll and Mr. Hyde situation? Jing...who are you?! And, more importantly, who do you want to be?Now that I think about it, Teng Tang Jing kind of personifies the whole show. It\\'s good-hearted, thoughtful, and well meaning during some moments, but then it seems absolutely callous and apathetic the next.Honestly, there are better Asian Dramas out there, like Princess Weiyoung. I can only recommend this to someone who wants to show their daughter what an abusive boyfriend looks like so they know what to watch out for. And even then, don\\'t watch past episode eight. Trust me. I read the Wikipedia Summary. It\\'s not worth it.', review_id='rw5154789', review_summary='Confusingly Entertaining Whilst Being Very Morally Questionable', reviewer='Cherry-sama', spoiler_tag=0),\n",
              " Row(helpful=['1', '1'], movie='The Whole Truth (1958)', rating='6', review_date='1 October 2019', review_detail='A rather tawdry murder mystery set among film makers in the South of France (although the principals plainly never left Walton-on-Thames), directed for all its worth by a young John Guillermin (later described by Granger as \"peculiarly lacking in charm, to say the least\") from a screenplay by film noir veteran Jonathan Latimer from a play by Philip Mackie, with gothic photography by Wilkie Cooper and suitably trashy musical accompaniment by Mischa Spoliansky (performed on the soundtrack by Johnny Dankworth).It\\'s good to see female lead Donna Reed play a more active role in the proceedings than one is accustomed to, while George Sanders also looks less bored than usual during this period in his life.', review_id='rw5154792', review_summary='Murder Among the Jet Set', reviewer='richardchatten', spoiler_tag=0),\n",
              " Row(helpful=['1', '6'], movie='Tall Girl (2019)', rating='4', review_date='1 October 2019', review_detail='She\\'s only six one and everyone is a whole head shorter that her and she is treated like a social outcast. \"Man don\\'t you hate those pretty, tall, Blonde, rich girls\" also the woman who wrote and directed this movie is 4\\'11\\'\\'', review_id='rw5154793', review_summary='She goes to a school for midgets', reviewer='leobbiagi', spoiler_tag=0)]"
            ]
          },
          "metadata": {},
          "execution_count": 9
        }
      ]
    },
    {
      "cell_type": "code",
      "source": [
        "df = data_rdd.toDF()"
      ],
      "metadata": {
        "id": "Ru3THo0sKbCK"
      },
      "execution_count": 10,
      "outputs": []
    },
    {
      "cell_type": "code",
      "source": [
        "df.show(5)"
      ],
      "metadata": {
        "colab": {
          "base_uri": "https://localhost:8080/"
        },
        "id": "1tT3_3zDbc4M",
        "outputId": "a77cabf8-5206-4069-cd4a-d1cace05321d"
      },
      "execution_count": 11,
      "outputs": [
        {
          "output_type": "stream",
          "name": "stdout",
          "text": [
            "+-------+---------------------+------+--------------+--------------------+---------+--------------------+--------------+-----------+\n",
            "|helpful|                movie|rating|   review_date|       review_detail|review_id|      review_summary|      reviewer|spoiler_tag|\n",
            "+-------+---------------------+------+--------------+--------------------+---------+--------------------+--------------+-----------+\n",
            "|[5, 12]|蜘蛛人：離家日 (2019)|     5|1 October 2019|It's been just a ...|rw5154787|The illusion fact...|     Semisonic|          0|\n",
            "| [2, 3]| Star Trek: A Piec...|     3|1 October 2019|I can't say this ...|rw5154791|I've Got A Grudge...|Dan1863Sickles|          0|\n",
            "| [8, 9]|    流星花園 (2018– )|     3|1 October 2019|This rating has n...|rw5154789|Confusingly Enter...|   Cherry-sama|          0|\n",
            "| [1, 1]| The Whole Truth (...|     6|1 October 2019|A rather tawdry m...|rw5154792|Murder Among the ...|richardchatten|          0|\n",
            "| [1, 6]|     Tall Girl (2019)|     4|1 October 2019|She's only six on...|rw5154793|She goes to a sch...|     leobbiagi|          0|\n",
            "+-------+---------------------+------+--------------+--------------------+---------+--------------------+--------------+-----------+\n",
            "only showing top 5 rows\n",
            "\n"
          ]
        }
      ]
    },
    {
      "cell_type": "code",
      "source": [
        "#Statistically summarizing about the data\n",
        "df.describe().show()"
      ],
      "metadata": {
        "id": "81NIlMA5eDn3",
        "colab": {
          "base_uri": "https://localhost:8080/"
        },
        "outputId": "2231c343-5524-4fa3-b616-92637f635b9d"
      },
      "execution_count": 12,
      "outputs": [
        {
          "output_type": "stream",
          "name": "stdout",
          "text": [
            "+-------+-------------+-----------------+---------------+--------------------+---------+-------------------+------------------+------------------+\n",
            "|summary|        movie|           rating|    review_date|       review_detail|review_id|     review_summary|          reviewer|       spoiler_tag|\n",
            "+-------+-------------+-----------------+---------------+--------------------+---------+-------------------+------------------+------------------+\n",
            "|  count|        50000|            45925|          50000|               50000|    50000|              50000|             50000|             50000|\n",
            "|   mean|         null|6.745998911268372|           null|                null|     null| 289.39285714285717| 791508.3571428572|           0.21898|\n",
            "| stddev|         null|2.969629967663795|           null|                null|     null|   717.327094646707|223427.99288760958|0.4135591616970949|\n",
            "|    min|#Alive (2020)|                1|1 February 2016|!! Contains a spo...|rw1985329|    !!Great Movie!!|  008_Bob-JamesBob|                 0|\n",
            "|    max|  Ｉ島 (2019)|                9|9 February 2016|🤣....🍷That was ...|rw6059522|🦆ing Awesome film!|            zzmale|                 1|\n",
            "+-------+-------------+-----------------+---------------+--------------------+---------+-------------------+------------------+------------------+\n",
            "\n"
          ]
        }
      ]
    },
    {
      "cell_type": "code",
      "source": [
        "# Check number of rows and columns \n",
        "row = df.count()\n",
        "col = len(df.columns)\n",
        "\n",
        "print(f'Dimension of the Dataframe is: {(row,col)}')\n",
        "print(f'Number of Rows are: {row}')\n",
        "print(f'Number of Columns are: {col}')"
      ],
      "metadata": {
        "id": "oNkmCdNxeloe"
      },
      "execution_count": null,
      "outputs": []
    },
    {
      "cell_type": "code",
      "execution_count": 12,
      "metadata": {
        "id": "IOFmx-av1-xy",
        "outputId": "064a5ffc-5fcc-4106-e9b7-2ad0adde0d72",
        "colab": {
          "base_uri": "https://localhost:8080/"
        }
      },
      "outputs": [
        {
          "output_type": "stream",
          "name": "stdout",
          "text": [
            "root\n",
            " |-- helpful: array (nullable = true)\n",
            " |    |-- element: string (containsNull = true)\n",
            " |-- movie: string (nullable = true)\n",
            " |-- rating: string (nullable = true)\n",
            " |-- review_date: string (nullable = true)\n",
            " |-- review_detail: string (nullable = true)\n",
            " |-- review_id: string (nullable = true)\n",
            " |-- review_summary: string (nullable = true)\n",
            " |-- reviewer: string (nullable = true)\n",
            " |-- spoiler_tag: long (nullable = true)\n",
            "\n"
          ]
        }
      ],
      "source": [
        "#Printing Schema\n",
        "df.printSchema() "
      ]
    },
    {
      "cell_type": "code",
      "execution_count": 13,
      "metadata": {
        "id": "dMpz8jVU1-xz",
        "outputId": "fcebd288-80ed-4c5b-b7e4-ef54c6be07ed",
        "colab": {
          "base_uri": "https://localhost:8080/"
        }
      },
      "outputs": [
        {
          "output_type": "execute_result",
          "data": {
            "text/plain": [
              "['helpful',\n",
              " 'movie',\n",
              " 'rating',\n",
              " 'review_date',\n",
              " 'review_detail',\n",
              " 'review_id',\n",
              " 'review_summary',\n",
              " 'reviewer',\n",
              " 'spoiler_tag']"
            ]
          },
          "metadata": {},
          "execution_count": 13
        }
      ],
      "source": [
        "df.columns"
      ]
    },
    {
      "cell_type": "code",
      "source": [
        "from pyspark.sql.types import StringType, DateType, FloatType\n",
        "\n",
        "df2 = df \\\n",
        "  .withColumn(\"rating\" ,\n",
        "              df[\"rating\"]\n",
        "              .cast(FloatType()))   \\\n",
        "  .withColumn(\"spoiler_tag\"  ,\n",
        "              df[\"spoiler_tag\"]\n",
        "              .cast(FloatType()))"
      ],
      "metadata": {
        "id": "DTBKymoe6t0K"
      },
      "execution_count": 12,
      "outputs": []
    },
    {
      "cell_type": "code",
      "source": [
        "df2.printSchema() "
      ],
      "metadata": {
        "colab": {
          "base_uri": "https://localhost:8080/"
        },
        "id": "ND5uCbPx7Qm1",
        "outputId": "57a4609b-964d-4dd8-8a78-401fe583948d"
      },
      "execution_count": 13,
      "outputs": [
        {
          "output_type": "stream",
          "name": "stdout",
          "text": [
            "root\n",
            " |-- helpful: array (nullable = true)\n",
            " |    |-- element: string (containsNull = true)\n",
            " |-- movie: string (nullable = true)\n",
            " |-- rating: float (nullable = true)\n",
            " |-- review_date: string (nullable = true)\n",
            " |-- review_detail: string (nullable = true)\n",
            " |-- review_id: string (nullable = true)\n",
            " |-- review_summary: string (nullable = true)\n",
            " |-- reviewer: string (nullable = true)\n",
            " |-- spoiler_tag: float (nullable = true)\n",
            "\n"
          ]
        }
      ]
    },
    {
      "cell_type": "code",
      "source": [
        "df2.describe().show()"
      ],
      "metadata": {
        "colab": {
          "base_uri": "https://localhost:8080/"
        },
        "id": "U0J38M5L9mOS",
        "outputId": "cef19da7-dc55-426f-85fa-4301e0c0f3d9"
      },
      "execution_count": 17,
      "outputs": [
        {
          "output_type": "stream",
          "name": "stdout",
          "text": [
            "+-------+-------------+-----------------+---------------+--------------------+---------+-------------------+------------------+------------------+\n",
            "|summary|        movie|           rating|    review_date|       review_detail|review_id|     review_summary|          reviewer|       spoiler_tag|\n",
            "+-------+-------------+-----------------+---------------+--------------------+---------+-------------------+------------------+------------------+\n",
            "|  count|        50000|            45925|          50000|               50000|    50000|              50000|             50000|             50000|\n",
            "|   mean|         null|6.745998911268372|           null|                null|     null| 289.39285714285717| 791508.3571428572|           0.21898|\n",
            "| stddev|         null|2.969629967663795|           null|                null|     null|   717.327094646707|223427.99288760958|0.4135591616970949|\n",
            "|    min|#Alive (2020)|              1.0|1 February 2016|!! Contains a spo...|rw1985329|    !!Great Movie!!|  008_Bob-JamesBob|               0.0|\n",
            "|    max|  Ｉ島 (2019)|             10.0|9 February 2016|🤣....🍷That was ...|rw6059522|🦆ing Awesome film!|            zzmale|               1.0|\n",
            "+-------+-------------+-----------------+---------------+--------------------+---------+-------------------+------------------+------------------+\n",
            "\n"
          ]
        }
      ]
    },
    {
      "cell_type": "markdown",
      "metadata": {
        "id": "lE7cJzbw1-x0"
      },
      "source": [
        "### Drop Missing Values"
      ]
    },
    {
      "cell_type": "code",
      "execution_count": 14,
      "metadata": {
        "id": "n4wRgM4D1-x2",
        "outputId": "40fe674e-3c23-424b-abcd-ac30918eafb2",
        "colab": {
          "base_uri": "https://localhost:8080/"
        }
      },
      "outputs": [
        {
          "output_type": "stream",
          "name": "stdout",
          "text": [
            "+--------+-------------------------+------+--------------+--------------------+---------+--------------------+--------------+-----------+\n",
            "| helpful|                    movie|rating|   review_date|       review_detail|review_id|      review_summary|      reviewer|spoiler_tag|\n",
            "+--------+-------------------------+------+--------------+--------------------+---------+--------------------+--------------+-----------+\n",
            "| [5, 12]|    蜘蛛人：離家日 (2019)|   5.0|1 October 2019|It's been just a ...|rw5154787|The illusion fact...|     Semisonic|        0.0|\n",
            "|  [2, 3]|     Star Trek: A Piec...|   3.0|1 October 2019|I can't say this ...|rw5154791|I've Got A Grudge...|Dan1863Sickles|        0.0|\n",
            "|  [8, 9]|        流星花園 (2018– )|   3.0|1 October 2019|This rating has n...|rw5154789|Confusingly Enter...|   Cherry-sama|        0.0|\n",
            "|  [1, 1]|     The Whole Truth (...|   6.0|1 October 2019|A rather tawdry m...|rw5154792|Murder Among the ...|richardchatten|        0.0|\n",
            "|  [1, 6]|         Tall Girl (2019)|   4.0|1 October 2019|She's only six on...|rw5154793|She goes to a sch...|     leobbiagi|        0.0|\n",
            "|  [1, 1]|          刺激1995 (1994)|   9.0|1 October 2019|No wonder it is t...|rw5154796|  Best Of Everything|   MirakuruCJS|        0.0|\n",
            "|  [4, 4]|     Fanatic (2019 TV ...|   1.0|1 October 2019|I kept waiting fo...|rw5154795|         HORRIBLE!!!|   nakeiadiggs|        0.0|\n",
            "|  [2, 2]|     Ooe-yama Shuten-d...|   7.0|1 October 2019|Forces loyal to t...|rw5154797|The Demon Is Not ...|     boblipton|        0.0|\n",
            "|  [0, 0]|追愛總動員: The Naked ...|  10.0|1 October 2019|I think I'm music...|rw5154800|             Love it|    gio_vvanni|        0.0|\n",
            "| [7, 12]|          星際救援 (2019)|   1.0|1 October 2019|The plot is ridic...|rw5154801|Incredibly stupid...|   jbeatsoniii|        0.0|\n",
            "|  [1, 1]|     White Chamber (2018)|   3.0|1 October 2019|I watched the mov...|rw5154802|A good concept wi...|   dillon18992|        0.0|\n",
            "|  [1, 2]|    靠譜歌王 (III) (2019)|   7.0|1 October 2019|See this movie. T...|rw5154803|If you're a fan o...|      Brad_G35|        1.0|\n",
            "|  [3, 4]|      RangiTaranga (2015)|   1.0|1 October 2019|I don't understan...|rw5154804| Disastrous movie !!|      aarchitj|        0.0|\n",
            "|  [7, 9]|    福爾摩濕與滑生 (2018)|   1.0|1 October 2019|Honestly I don't ...|rw5154807|   Lazy and unfunny.|      Java_Joe|        0.0|\n",
            "|  [0, 2]|   黑鏡: Rachel, Jack ...|   1.0|1 October 2019|The writing of th...|rw5154809|One of the worst ...|      alter_em|        0.0|\n",
            "|  [1, 1]|     Bard of Blood (20...|   2.0|1 October 2019|Rating: 3/10. Wri...|rw5154810|Writers think kil...|  faisal-83640|        0.0|\n",
            "| [7, 38]|驚嚇陰屍路: End of the...|   9.0|1 October 2019|Ok don't know why...|rw5154811|        Great finale|     swadwolf1|        1.0|\n",
            "|  [5, 7]|         High Life (2018)|   1.0|1 October 2019|I was sucked into...|rw5154812|Makes Lost In Spa...|   michaellimb|        0.0|\n",
            "|  [1, 2]|             Ju-on (2002)|   6.0|1 October 2019|So I watched this...|rw5154813| I Didn't Realize...|elipsenbarnick|        0.0|\n",
            "|[39, 65]|         茱蒂 (II) (2019)|   4.0|1 October 2019|JudyVery much in ...|rw5154814|Disappointing Bio...|  martimusross|        0.0|\n",
            "+--------+-------------------------+------+--------------+--------------------+---------+--------------------+--------------+-----------+\n",
            "only showing top 20 rows\n",
            "\n"
          ]
        }
      ],
      "source": [
        "df2.show() #Displaying samples "
      ]
    },
    {
      "cell_type": "code",
      "execution_count": 14,
      "metadata": {
        "id": "T7BGsLP21-x2"
      },
      "outputs": [],
      "source": [
        "#Removing Rows with missing values\n",
        "#Dataframe.na.drop removes any row with a NULL value\n",
        "\n",
        "df3 = df2.dropna()"
      ]
    },
    {
      "cell_type": "code",
      "source": [
        "df3.show() #Displaying samples "
      ],
      "metadata": {
        "colab": {
          "base_uri": "https://localhost:8080/"
        },
        "id": "p9wQWK0S-Xnz",
        "outputId": "703fac7a-e006-4234-df77-3d633ceb3d02"
      },
      "execution_count": 15,
      "outputs": [
        {
          "output_type": "stream",
          "name": "stdout",
          "text": [
            "+--------+-------------------------+------+--------------+--------------------+---------+--------------------+--------------+-----------+\n",
            "| helpful|                    movie|rating|   review_date|       review_detail|review_id|      review_summary|      reviewer|spoiler_tag|\n",
            "+--------+-------------------------+------+--------------+--------------------+---------+--------------------+--------------+-----------+\n",
            "| [5, 12]|    蜘蛛人：離家日 (2019)|   5.0|1 October 2019|It's been just a ...|rw5154787|The illusion fact...|     Semisonic|        0.0|\n",
            "|  [2, 3]|     Star Trek: A Piec...|   3.0|1 October 2019|I can't say this ...|rw5154791|I've Got A Grudge...|Dan1863Sickles|        0.0|\n",
            "|  [8, 9]|        流星花園 (2018– )|   3.0|1 October 2019|This rating has n...|rw5154789|Confusingly Enter...|   Cherry-sama|        0.0|\n",
            "|  [1, 1]|     The Whole Truth (...|   6.0|1 October 2019|A rather tawdry m...|rw5154792|Murder Among the ...|richardchatten|        0.0|\n",
            "|  [1, 6]|         Tall Girl (2019)|   4.0|1 October 2019|She's only six on...|rw5154793|She goes to a sch...|     leobbiagi|        0.0|\n",
            "|  [1, 1]|          刺激1995 (1994)|   9.0|1 October 2019|No wonder it is t...|rw5154796|  Best Of Everything|   MirakuruCJS|        0.0|\n",
            "|  [4, 4]|     Fanatic (2019 TV ...|   1.0|1 October 2019|I kept waiting fo...|rw5154795|         HORRIBLE!!!|   nakeiadiggs|        0.0|\n",
            "|  [2, 2]|     Ooe-yama Shuten-d...|   7.0|1 October 2019|Forces loyal to t...|rw5154797|The Demon Is Not ...|     boblipton|        0.0|\n",
            "|  [0, 0]|追愛總動員: The Naked ...|  10.0|1 October 2019|I think I'm music...|rw5154800|             Love it|    gio_vvanni|        0.0|\n",
            "| [7, 12]|          星際救援 (2019)|   1.0|1 October 2019|The plot is ridic...|rw5154801|Incredibly stupid...|   jbeatsoniii|        0.0|\n",
            "|  [1, 1]|     White Chamber (2018)|   3.0|1 October 2019|I watched the mov...|rw5154802|A good concept wi...|   dillon18992|        0.0|\n",
            "|  [1, 2]|    靠譜歌王 (III) (2019)|   7.0|1 October 2019|See this movie. T...|rw5154803|If you're a fan o...|      Brad_G35|        1.0|\n",
            "|  [3, 4]|      RangiTaranga (2015)|   1.0|1 October 2019|I don't understan...|rw5154804| Disastrous movie !!|      aarchitj|        0.0|\n",
            "|  [7, 9]|    福爾摩濕與滑生 (2018)|   1.0|1 October 2019|Honestly I don't ...|rw5154807|   Lazy and unfunny.|      Java_Joe|        0.0|\n",
            "|  [0, 2]|   黑鏡: Rachel, Jack ...|   1.0|1 October 2019|The writing of th...|rw5154809|One of the worst ...|      alter_em|        0.0|\n",
            "|  [1, 1]|     Bard of Blood (20...|   2.0|1 October 2019|Rating: 3/10. Wri...|rw5154810|Writers think kil...|  faisal-83640|        0.0|\n",
            "| [7, 38]|驚嚇陰屍路: End of the...|   9.0|1 October 2019|Ok don't know why...|rw5154811|        Great finale|     swadwolf1|        1.0|\n",
            "|  [5, 7]|         High Life (2018)|   1.0|1 October 2019|I was sucked into...|rw5154812|Makes Lost In Spa...|   michaellimb|        0.0|\n",
            "|  [1, 2]|             Ju-on (2002)|   6.0|1 October 2019|So I watched this...|rw5154813| I Didn't Realize...|elipsenbarnick|        0.0|\n",
            "|[39, 65]|         茱蒂 (II) (2019)|   4.0|1 October 2019|JudyVery much in ...|rw5154814|Disappointing Bio...|  martimusross|        0.0|\n",
            "+--------+-------------------------+------+--------------+--------------------+---------+--------------------+--------------+-----------+\n",
            "only showing top 20 rows\n",
            "\n"
          ]
        }
      ]
    },
    {
      "cell_type": "code",
      "execution_count": 21,
      "metadata": {
        "id": "eZNpThN91-x2",
        "outputId": "b730fade-ad97-4ce3-85d1-24bc95b5184c",
        "colab": {
          "base_uri": "https://localhost:8080/"
        }
      },
      "outputs": [
        {
          "output_type": "stream",
          "name": "stdout",
          "text": [
            "+-------+-------------+-----------------+---------------+--------------------+---------+-------------------+------------------+-------------------+\n",
            "|summary|        movie|           rating|    review_date|       review_detail|review_id|     review_summary|          reviewer|        spoiler_tag|\n",
            "+-------+-------------+-----------------+---------------+--------------------+---------+-------------------+------------------+-------------------+\n",
            "|  count|        45925|            45925|          45925|               45925|    45925|              45925|             45925|              45925|\n",
            "|   mean|         null|6.745998911268372|           null|                null|     null| 289.39285714285717| 791508.3571428572|0.21445835601524224|\n",
            "| stddev|         null|2.969629967663795|           null|                null|     null|   717.327094646707|223427.99288760958| 0.4104505304113301|\n",
            "|    min|#Alive (2020)|              1.0|1 February 2016|!! Contains a spo...|rw1985329|    !!Great Movie!!|  008_Bob-JamesBob|                0.0|\n",
            "|    max|  Ｉ島 (2019)|             10.0|9 February 2016|🤣....🍷That was ...|rw6059522|🦆ing Awesome film!|          zzibggib|                1.0|\n",
            "+-------+-------------+-----------------+---------------+--------------------+---------+-------------------+------------------+-------------------+\n",
            "\n"
          ]
        }
      ],
      "source": [
        "df3.describe().show()"
      ]
    },
    {
      "cell_type": "code",
      "source": [
        "# Check number of rows and columns \n",
        "row = df3.count()\n",
        "col = len(df3.columns)\n",
        "\n",
        "print(f'Dimension of the Dataframe is: {(row,col)}')\n",
        "print(f'Number of Rows are: {row}')\n",
        "print(f'Number of Columns are: {col}')"
      ],
      "metadata": {
        "colab": {
          "base_uri": "https://localhost:8080/"
        },
        "id": "EJs5vPZvR2H7",
        "outputId": "02244b9f-9f32-4fa5-db13-acf8a3e828c2"
      },
      "execution_count": 22,
      "outputs": [
        {
          "output_type": "stream",
          "name": "stdout",
          "text": [
            "Dimension of the Dataframe is: (45925, 9)\n",
            "Number of Rows are: 45925\n",
            "Number of Columns are: 9\n"
          ]
        }
      ]
    },
    {
      "cell_type": "markdown",
      "source": [
        "# Pipeline"
      ],
      "metadata": {
        "id": "HWKxGQ7ZAcXf"
      }
    },
    {
      "cell_type": "code",
      "source": [
        "# Tokenize DataFrame\n",
        "tokened = Tokenizer(inputCol=\"review_detail\", outputCol=\"words\")\n",
        "tokened_transformed = tokened.transform(df)\n",
        "tokened_transformed.show()\n",
        "\n",
        "row = tokened_transformed.count()\n",
        "col = len(tokened_transformed.columns)\n",
        "\n",
        "print(f'Dimension of the Dataframe is: {(row,col)}')\n",
        "print(f'Number of Rows are: {row}')\n",
        "print(f'Number of Columns are: {col}')"
      ],
      "metadata": {
        "colab": {
          "base_uri": "https://localhost:8080/"
        },
        "id": "MB4Kah42R_No",
        "outputId": "73e12e51-dd5e-4612-a9e1-89b7a14000cb"
      },
      "execution_count": null,
      "outputs": [
        {
          "output_type": "stream",
          "name": "stdout",
          "text": [
            "+---------+--------------------+------+------------+--------------------+---------+--------------------+-------------------+-----------+--------------------+\n",
            "|  helpful|               movie|rating| review_date|       review_detail|review_id|      review_summary|           reviewer|spoiler_tag|               words|\n",
            "+---------+--------------------+------+------------+--------------------+---------+--------------------+-------------------+-----------+--------------------+\n",
            "|   [0, 1]|Kill Bill: Vol. 2...|     8|24 July 2005|After seeing Tara...|rw1133942|Good follow up th...|OriginalMovieBuff21|          0|[after, seeing, t...|\n",
            "| [11, 11]|Journey to the Un...|  null|24 July 2005|I have the entire...|rw1133943|    Excellent series|           sentra14|          0|[i, have, the, en...|\n",
            "|   [2, 5]|   The Island (2005)|     9|24 July 2005|Once again the cr...|rw1133946|Not just about ac...|  GreenwheelFan2002|          0|[once, again, the...|\n",
            "|   [2, 3]|Win a Date with T...|     3|24 July 2005|This IS a film th...|rw1133948|Falls under the c...|     itsascreambaby|          0|[this, is, a, fil...|\n",
            "|   [4, 4]|Saturday Night Li...|    10|24 July 2005|Chris Farley is o...|rw1133949|Before Tommy Boy ...|OriginalMovieBuff21|          0|[chris, farley, i...|\n",
            "| [11, 12]|Outlaw Star (1998– )|    10|24 July 2005|I love this anime...|rw1133950|Great anime serie...|          Aaron1375|          0|[i, love, this, a...|\n",
            "|   [0, 2]|  The Aviator (2004)|    10|24 July 2005|****Excellent ***...|rw1133952|Howard Hughes for...| TheFilmConnoisseur|          0|[****excellent, *...|\n",
            "|  [7, 10]|Star Wars: Episod...|     9|24 July 2005|I always get anno...|rw1133953|Better than peopl...|        swansongang|          1|[i, always, get, ...|\n",
            "|   [0, 1]|The Amityville Ho...|     3|24 July 2005|The Amityville Ho...|rw1133954|    Laid-back horror|             diand_|          0|[the, amityville,...|\n",
            "| [19, 29]|Flying Tigers (1942)|     6|24 July 2005|Several friends o...|rw1133955|    Tigers Opted Out|         btillman63|          0|[several, friends...|\n",
            "|   [0, 4]|Phantasm III: Lor...|     6|24 July 2005|The first install...|rw1133956|Be careful of wha...|          Aaron1375|          0|[the, first, inst...|\n",
            "|   [3, 9]|The Truth About C...|     1|24 July 2005|How on earth does...|rw1133957|      What the f***?|         agent_mohr|          0|[how, on, earth, ...|\n",
            "|[36, 112]|Trainspotting (1996)|     1|24 July 2005|I figure that all...|rw1133958|       Terrible film|            garyr-2|          0|[i, figure, that,...|\n",
            "|   [1, 4]|   Feardotcom (2002)|     3|24 July 2005|There's a Website...|rw1133959|\"I couldn't make ...|      lost-in-limbo|          0|[there's, a, webs...|\n",
            "| [25, 31]|The Mansion of Ma...|     7|24 July 2005|\"The Mansion of M...|rw1133960|More like mansion...|           NateManD|          0|[\"the, mansion, o...|\n",
            "| [40, 49]|The Venture Bros....|  null|24 July 2005|This is a favorit...|rw1133961|RELEASE THE BUTTE...|          Aaron1375|          0|[this, is, a, fav...|\n",
            "|   [1, 3]| Mean Streets (1973)|    10|24 July 2005|CONTAINS MINOR SP...|rw1133964|You do not make u...| TheFilmConnoisseur|          1|[contains, minor,...|\n",
            "|   [5, 9]|   Madagascar (2005)|    10|24 July 2005|Fabulous Film! Ve...|rw1133965|Fabulous! Extreme...|           film-246|          0|[fabulous, film!,...|\n",
            "|   [2, 2]|Il turco in Itali...|     6|24 July 2005|This is a very li...|rw1133967|It's Rossini and ...|            Rosabel|          0|[this, is, a, ver...|\n",
            "|   [2, 5]|The Man Who Would...|     9|24 July 2005|What a treat to u...|rw1133968|Friendship Betwee...|        mcdougaller|          1|[what, a, treat, ...|\n",
            "+---------+--------------------+------+------------+--------------------+---------+--------------------+-------------------+-----------+--------------------+\n",
            "only showing top 20 rows\n",
            "\n",
            "Dimension of the Dataframe is: (50000, 10)\n",
            "Number of Rows are: 50000\n",
            "Number of Columns are: 10\n"
          ]
        }
      ]
    },
    {
      "cell_type": "code",
      "source": [
        "# Remove stop words\n",
        "remover = StopWordsRemover(inputCol=\"words\", outputCol=\"Wordsfiltered\")\n",
        "removed_frame = remover.transform(tokened_transformed)\n",
        "removed_frame.show()\n",
        "\n",
        "row = removed_frame.count()\n",
        "col = len(removed_frame.columns)\n",
        "\n",
        "print(f'Dimension of the Dataframe is: {(row,col)}')\n",
        "print(f'Number of Rows are: {row}')\n",
        "print(f'Number of Columns are: {col}')"
      ],
      "metadata": {
        "colab": {
          "base_uri": "https://localhost:8080/"
        },
        "id": "MZCstiFuSOr1",
        "outputId": "844465cd-6c8a-4994-b845-fb0eccab677f"
      },
      "execution_count": null,
      "outputs": [
        {
          "output_type": "stream",
          "name": "stdout",
          "text": [
            "+---------+--------------------+------+------------+--------------------+---------+--------------------+-------------------+-----------+--------------------+--------------------+\n",
            "|  helpful|               movie|rating| review_date|       review_detail|review_id|      review_summary|           reviewer|spoiler_tag|               words|       Wordsfiltered|\n",
            "+---------+--------------------+------+------------+--------------------+---------+--------------------+-------------------+-----------+--------------------+--------------------+\n",
            "|   [0, 1]|Kill Bill: Vol. 2...|     8|24 July 2005|After seeing Tara...|rw1133942|Good follow up th...|OriginalMovieBuff21|          0|[after, seeing, t...|[seeing, tarantin...|\n",
            "| [11, 11]|Journey to the Un...|  null|24 July 2005|I have the entire...|rw1133943|    Excellent series|           sentra14|          0|[i, have, the, en...|[entire, series, ...|\n",
            "|   [2, 5]|   The Island (2005)|     9|24 July 2005|Once again the cr...|rw1133946|Not just about ac...|  GreenwheelFan2002|          0|[once, again, the...|[critics, prove, ...|\n",
            "|   [2, 3]|Win a Date with T...|     3|24 July 2005|This IS a film th...|rw1133948|Falls under the c...|     itsascreambaby|          0|[this, is, a, fil...|[film, done, many...|\n",
            "|   [4, 4]|Saturday Night Li...|    10|24 July 2005|Chris Farley is o...|rw1133949|Before Tommy Boy ...|OriginalMovieBuff21|          0|[chris, farley, i...|[chris, farley, o...|\n",
            "| [11, 12]|Outlaw Star (1998– )|    10|24 July 2005|I love this anime...|rw1133950|Great anime serie...|          Aaron1375|          0|[i, love, this, a...|[love, anime, ser...|\n",
            "|   [0, 2]|  The Aviator (2004)|    10|24 July 2005|****Excellent ***...|rw1133952|Howard Hughes for...| TheFilmConnoisseur|          0|[****excellent, *...|[****excellent, *...|\n",
            "|  [7, 10]|Star Wars: Episod...|     9|24 July 2005|I always get anno...|rw1133953|Better than peopl...|        swansongang|          1|[i, always, get, ...|[always, get, ann...|\n",
            "|   [0, 1]|The Amityville Ho...|     3|24 July 2005|The Amityville Ho...|rw1133954|    Laid-back horror|             diand_|          0|[the, amityville,...|[amityville, horr...|\n",
            "| [19, 29]|Flying Tigers (1942)|     6|24 July 2005|Several friends o...|rw1133955|    Tigers Opted Out|         btillman63|          0|[several, friends...|[several, friends...|\n",
            "|   [0, 4]|Phantasm III: Lor...|     6|24 July 2005|The first install...|rw1133956|Be careful of wha...|          Aaron1375|          0|[the, first, inst...|[first, installme...|\n",
            "|   [3, 9]|The Truth About C...|     1|24 July 2005|How on earth does...|rw1133957|      What the f***?|         agent_mohr|          0|[how, on, earth, ...|[earth, director,...|\n",
            "|[36, 112]|Trainspotting (1996)|     1|24 July 2005|I figure that all...|rw1133958|       Terrible film|            garyr-2|          0|[i, figure, that,...|[figure, people, ...|\n",
            "|   [1, 4]|   Feardotcom (2002)|     3|24 July 2005|There's a Website...|rw1133959|\"I couldn't make ...|      lost-in-limbo|          0|[there's, a, webs...|[website, called,...|\n",
            "| [25, 31]|The Mansion of Ma...|     7|24 July 2005|\"The Mansion of M...|rw1133960|More like mansion...|           NateManD|          0|[\"the, mansion, o...|[\"the, mansion, m...|\n",
            "| [40, 49]|The Venture Bros....|  null|24 July 2005|This is a favorit...|rw1133961|RELEASE THE BUTTE...|          Aaron1375|          0|[this, is, a, fav...|[favorite, mine, ...|\n",
            "|   [1, 3]| Mean Streets (1973)|    10|24 July 2005|CONTAINS MINOR SP...|rw1133964|You do not make u...| TheFilmConnoisseur|          1|[contains, minor,...|[contains, minor,...|\n",
            "|   [5, 9]|   Madagascar (2005)|    10|24 July 2005|Fabulous Film! Ve...|rw1133965|Fabulous! Extreme...|           film-246|          0|[fabulous, film!,...|[fabulous, film!,...|\n",
            "|   [2, 2]|Il turco in Itali...|     6|24 July 2005|This is a very li...|rw1133967|It's Rossini and ...|            Rosabel|          0|[this, is, a, ver...|[light-hearted, p...|\n",
            "|   [2, 5]|The Man Who Would...|     9|24 July 2005|What a treat to u...|rw1133968|Friendship Betwee...|        mcdougaller|          1|[what, a, treat, ...|[treat, unearth, ...|\n",
            "+---------+--------------------+------+------------+--------------------+---------+--------------------+-------------------+-----------+--------------------+--------------------+\n",
            "only showing top 20 rows\n",
            "\n",
            "Dimension of the Dataframe is: (50000, 11)\n",
            "Number of Rows are: 50000\n",
            "Number of Columns are: 11\n"
          ]
        }
      ]
    },
    {
      "cell_type": "code",
      "source": [
        "# Run the hashing term frequency\n",
        "hashing = HashingTF(inputCol=\"Wordsfiltered\", outputCol=\"hashedValues\")\n",
        "\n",
        "# Transform into a DF\n",
        "hashed_df = hashing.transform(removed_frame)\n",
        "hashed_df.show()\n",
        "\n",
        "row = hashed_df.count()\n",
        "col = len(hashed_df.columns)\n",
        "\n",
        "print(f'Dimension of the Dataframe is: {(row,col)}')\n",
        "print(f'Number of Rows are: {row}')\n",
        "print(f'Number of Columns are: {col}')"
      ],
      "metadata": {
        "colab": {
          "base_uri": "https://localhost:8080/"
        },
        "id": "AMSTO6OTSWs7",
        "outputId": "17be6c53-c2c6-4412-deeb-4e243d3b0f65"
      },
      "execution_count": null,
      "outputs": [
        {
          "output_type": "stream",
          "name": "stdout",
          "text": [
            "+---------+--------------------+------+------------+--------------------+---------+--------------------+-------------------+-----------+--------------------+--------------------+--------------------+\n",
            "|  helpful|               movie|rating| review_date|       review_detail|review_id|      review_summary|           reviewer|spoiler_tag|               words|       Wordsfiltered|        hashedValues|\n",
            "+---------+--------------------+------+------------+--------------------+---------+--------------------+-------------------+-----------+--------------------+--------------------+--------------------+\n",
            "|   [0, 1]|Kill Bill: Vol. 2...|     8|24 July 2005|After seeing Tara...|rw1133942|Good follow up th...|OriginalMovieBuff21|          0|[after, seeing, t...|[seeing, tarantin...|(262144,[7625,842...|\n",
            "| [11, 11]|Journey to the Un...|  null|24 July 2005|I have the entire...|rw1133943|    Excellent series|           sentra14|          0|[i, have, the, en...|[entire, series, ...|(262144,[3928,553...|\n",
            "|   [2, 5]|   The Island (2005)|     9|24 July 2005|Once again the cr...|rw1133946|Not just about ac...|  GreenwheelFan2002|          0|[once, again, the...|[critics, prove, ...|(262144,[1784,634...|\n",
            "|   [2, 3]|Win a Date with T...|     3|24 July 2005|This IS a film th...|rw1133948|Falls under the c...|     itsascreambaby|          0|[this, is, a, fil...|[film, done, many...|(262144,[6558,912...|\n",
            "|   [4, 4]|Saturday Night Li...|    10|24 July 2005|Chris Farley is o...|rw1133949|Before Tommy Boy ...|OriginalMovieBuff21|          0|[chris, farley, i...|[chris, farley, o...|(262144,[4314,104...|\n",
            "| [11, 12]|Outlaw Star (1998– )|    10|24 July 2005|I love this anime...|rw1133950|Great anime serie...|          Aaron1375|          0|[i, love, this, a...|[love, anime, ser...|(262144,[3928,425...|\n",
            "|   [0, 2]|  The Aviator (2004)|    10|24 July 2005|****Excellent ***...|rw1133952|Howard Hughes for...| TheFilmConnoisseur|          0|[****excellent, *...|[****excellent, *...|(262144,[991,1203...|\n",
            "|  [7, 10]|Star Wars: Episod...|     9|24 July 2005|I always get anno...|rw1133953|Better than peopl...|        swansongang|          1|[i, always, get, ...|[always, get, ann...|(262144,[2931,528...|\n",
            "|   [0, 1]|The Amityville Ho...|     3|24 July 2005|The Amityville Ho...|rw1133954|    Laid-back horror|             diand_|          0|[the, amityville,...|[amityville, horr...|(262144,[5053,728...|\n",
            "| [19, 29]|Flying Tigers (1942)|     6|24 July 2005|Several friends o...|rw1133955|    Tigers Opted Out|         btillman63|          0|[several, friends...|[several, friends...|(262144,[2626,786...|\n",
            "|   [0, 4]|Phantasm III: Lor...|     6|24 July 2005|The first install...|rw1133956|Be careful of wha...|          Aaron1375|          0|[the, first, inst...|[first, installme...|(262144,[1696,538...|\n",
            "|   [3, 9]|The Truth About C...|     1|24 July 2005|How on earth does...|rw1133957|      What the f***?|         agent_mohr|          0|[how, on, earth, ...|[earth, director,...|(262144,[1696,802...|\n",
            "|[36, 112]|Trainspotting (1996)|     1|24 July 2005|I figure that all...|rw1133958|       Terrible film|            garyr-2|          0|[i, figure, that,...|[figure, people, ...|(262144,[161,2325...|\n",
            "|   [1, 4]|   Feardotcom (2002)|     3|24 July 2005|There's a Website...|rw1133959|\"I couldn't make ...|      lost-in-limbo|          0|[there's, a, webs...|[website, called,...|(262144,[134,2472...|\n",
            "| [25, 31]|The Mansion of Ma...|     7|24 July 2005|\"The Mansion of M...|rw1133960|More like mansion...|           NateManD|          0|[\"the, mansion, o...|[\"the, mansion, m...|(262144,[666,6346...|\n",
            "| [40, 49]|The Venture Bros....|  null|24 July 2005|This is a favorit...|rw1133961|RELEASE THE BUTTE...|          Aaron1375|          0|[this, is, a, fav...|[favorite, mine, ...|(262144,[4927,634...|\n",
            "|   [1, 3]| Mean Streets (1973)|    10|24 July 2005|CONTAINS MINOR SP...|rw1133964|You do not make u...| TheFilmConnoisseur|          1|[contains, minor,...|[contains, minor,...|(262144,[2977,366...|\n",
            "|   [5, 9]|   Madagascar (2005)|    10|24 July 2005|Fabulous Film! Ve...|rw1133965|Fabulous! Extreme...|           film-246|          0|[fabulous, film!,...|[fabulous, film!,...|(262144,[8538,978...|\n",
            "|   [2, 2]|Il turco in Itali...|     6|24 July 2005|This is a very li...|rw1133967|It's Rossini and ...|            Rosabel|          0|[this, is, a, ver...|[light-hearted, p...|(262144,[2257,243...|\n",
            "|   [2, 5]|The Man Who Would...|     9|24 July 2005|What a treat to u...|rw1133968|Friendship Betwee...|        mcdougaller|          1|[what, a, treat, ...|[treat, unearth, ...|(262144,[2977,386...|\n",
            "+---------+--------------------+------+------------+--------------------+---------+--------------------+-------------------+-----------+--------------------+--------------------+--------------------+\n",
            "only showing top 20 rows\n",
            "\n",
            "Dimension of the Dataframe is: (50000, 12)\n",
            "Number of Rows are: 50000\n",
            "Number of Columns are: 12\n"
          ]
        }
      ]
    },
    {
      "cell_type": "code",
      "source": [
        "df.head(1)"
      ],
      "metadata": {
        "colab": {
          "base_uri": "https://localhost:8080/"
        },
        "id": "V-YlyaKGSkA7",
        "outputId": "c3c272df-94c7-45b1-ca49-d201156e8706"
      },
      "execution_count": null,
      "outputs": [
        {
          "output_type": "execute_result",
          "data": {
            "text/plain": [
              "[Row(helpful=['0', '1'], movie='Kill Bill: Vol. 2 (2004)', rating='8', review_date='24 July 2005', review_detail=\"After seeing Tarantino's Kill Bill Vol: 1, I got to watch Vol. 2 the next day after seeing it. I liked the first one but didn't really know everything that was going on, but just knowing that she set off the kill 5 individuals who left her dead at her wedding. So I saw Kill Bill: Vol 2 and liked it highly. The movie answered all of my questions to the previous one and had much of a better story and was not unrealistic that much. We finally get to see Bill, who is played by David Carradine who had a really good role in the movie. There is a great conclusion to the movie and had a very good story, along with likable characters, my favorite being Budd. Overall, good movie that answers tons of questions. I recommend Kill Bill Vol. 2.Hedeen's Outlook: 8/10 *** B\", review_id='rw1133942', review_summary='Good follow up that answers all the questions', reviewer='OriginalMovieBuff21', spoiler_tag=0)]"
            ]
          },
          "metadata": {},
          "execution_count": 28
        }
      ]
    },
    {
      "cell_type": "code",
      "source": [
        "hashed_df.head(1)"
      ],
      "metadata": {
        "colab": {
          "base_uri": "https://localhost:8080/"
        },
        "id": "X7qO_DdwUKtL",
        "outputId": "c875c20d-86d9-4874-d66c-ef1e6f77b523"
      },
      "execution_count": null,
      "outputs": [
        {
          "output_type": "execute_result",
          "data": {
            "text/plain": [
              "[Row(helpful=['0', '1'], movie='Kill Bill: Vol. 2 (2004)', rating='8', review_date='24 July 2005', review_detail=\"After seeing Tarantino's Kill Bill Vol: 1, I got to watch Vol. 2 the next day after seeing it. I liked the first one but didn't really know everything that was going on, but just knowing that she set off the kill 5 individuals who left her dead at her wedding. So I saw Kill Bill: Vol 2 and liked it highly. The movie answered all of my questions to the previous one and had much of a better story and was not unrealistic that much. We finally get to see Bill, who is played by David Carradine who had a really good role in the movie. There is a great conclusion to the movie and had a very good story, along with likable characters, my favorite being Budd. Overall, good movie that answers tons of questions. I recommend Kill Bill Vol. 2.Hedeen's Outlook: 8/10 *** B\", review_id='rw1133942', review_summary='Good follow up that answers all the questions', reviewer='OriginalMovieBuff21', spoiler_tag=0, words=['after', 'seeing', \"tarantino's\", 'kill', 'bill', 'vol:', '1,', 'i', 'got', 'to', 'watch', 'vol.', '2', 'the', 'next', 'day', 'after', 'seeing', 'it.', 'i', 'liked', 'the', 'first', 'one', 'but', \"didn't\", 'really', 'know', 'everything', 'that', 'was', 'going', 'on,', 'but', 'just', 'knowing', 'that', 'she', 'set', 'off', 'the', 'kill', '5', 'individuals', 'who', 'left', 'her', 'dead', 'at', 'her', 'wedding.', 'so', 'i', 'saw', 'kill', 'bill:', 'vol', '2', 'and', 'liked', 'it', 'highly.', 'the', 'movie', 'answered', 'all', 'of', 'my', 'questions', 'to', 'the', 'previous', 'one', 'and', 'had', 'much', 'of', 'a', 'better', 'story', 'and', 'was', 'not', 'unrealistic', 'that', 'much.', 'we', 'finally', 'get', 'to', 'see', 'bill,', 'who', 'is', 'played', 'by', 'david', 'carradine', 'who', 'had', 'a', 'really', 'good', 'role', 'in', 'the', 'movie.', 'there', 'is', 'a', 'great', 'conclusion', 'to', 'the', 'movie', 'and', 'had', 'a', 'very', 'good', 'story,', 'along', 'with', 'likable', 'characters,', 'my', 'favorite', 'being', 'budd.', 'overall,', 'good', 'movie', 'that', 'answers', 'tons', 'of', 'questions.', 'i', 'recommend', 'kill', 'bill', 'vol.', \"2.hedeen's\", 'outlook:', '8/10', '***', 'b'], Wordsfiltered=['seeing', \"tarantino's\", 'kill', 'bill', 'vol:', '1,', 'got', 'watch', 'vol.', '2', 'next', 'day', 'seeing', 'it.', 'liked', 'first', 'one', 'really', 'know', 'everything', 'going', 'on,', 'knowing', 'set', 'kill', '5', 'individuals', 'left', 'dead', 'wedding.', 'saw', 'kill', 'bill:', 'vol', '2', 'liked', 'highly.', 'movie', 'answered', 'questions', 'previous', 'one', 'much', 'better', 'story', 'unrealistic', 'much.', 'finally', 'get', 'see', 'bill,', 'played', 'david', 'carradine', 'really', 'good', 'role', 'movie.', 'great', 'conclusion', 'movie', 'good', 'story,', 'along', 'likable', 'characters,', 'favorite', 'budd.', 'overall,', 'good', 'movie', 'answers', 'tons', 'questions.', 'recommend', 'kill', 'bill', 'vol.', \"2.hedeen's\", 'outlook:', '8/10', '***', 'b'], hashedValues=SparseVector(262144, {7625: 1.0, 8421: 1.0, 8538: 1.0, 11275: 1.0, 12524: 2.0, 16809: 1.0, 21823: 2.0, 30697: 1.0, 31886: 1.0, 38765: 1.0, 44002: 1.0, 54961: 1.0, 58839: 2.0, 62382: 1.0, 68228: 1.0, 68243: 1.0, 71659: 1.0, 76764: 1.0, 99172: 2.0, 100569: 1.0, 102382: 1.0, 107103: 1.0, 108726: 1.0, 111767: 1.0, 112293: 1.0, 113432: 3.0, 115944: 1.0, 120542: 1.0, 123940: 1.0, 130309: 1.0, 134166: 1.0, 134460: 1.0, 135398: 2.0, 140931: 1.0, 143501: 1.0, 146545: 1.0, 148981: 1.0, 153094: 2.0, 166936: 1.0, 170047: 1.0, 170414: 1.0, 171222: 1.0, 173018: 1.0, 183698: 1.0, 188235: 1.0, 188835: 1.0, 193538: 1.0, 207475: 1.0, 209518: 1.0, 210223: 3.0, 220129: 1.0, 225334: 1.0, 225898: 1.0, 229264: 2.0, 229604: 1.0, 235375: 1.0, 235619: 1.0, 242400: 1.0, 243592: 1.0, 244393: 1.0, 245415: 1.0, 245949: 1.0, 249130: 4.0, 249734: 1.0, 252722: 1.0, 254061: 1.0, 260499: 1.0, 261479: 1.0, 261870: 1.0}))]"
            ]
          },
          "metadata": {},
          "execution_count": 30
        }
      ]
    },
    {
      "cell_type": "markdown",
      "source": [
        "# Training"
      ],
      "metadata": {
        "id": "Nc1NGsJHgvoW"
      }
    },
    {
      "cell_type": "code",
      "source": [
        "df3.printSchema() "
      ],
      "metadata": {
        "colab": {
          "base_uri": "https://localhost:8080/"
        },
        "id": "jEPJeg6j3-Ck",
        "outputId": "d159c0bd-f760-438e-a3cc-cc0de98bf91c"
      },
      "execution_count": 17,
      "outputs": [
        {
          "output_type": "stream",
          "name": "stdout",
          "text": [
            "root\n",
            " |-- helpful: array (nullable = true)\n",
            " |    |-- element: string (containsNull = true)\n",
            " |-- movie: string (nullable = true)\n",
            " |-- rating: float (nullable = true)\n",
            " |-- review_date: string (nullable = true)\n",
            " |-- review_detail: string (nullable = true)\n",
            " |-- review_id: string (nullable = true)\n",
            " |-- review_summary: string (nullable = true)\n",
            " |-- reviewer: string (nullable = true)\n",
            " |-- spoiler_tag: float (nullable = true)\n",
            "\n"
          ]
        }
      ]
    },
    {
      "cell_type": "code",
      "source": [
        "df_1 = df3['movie', 'spoiler_tag', 'review_detail', 'rating']"
      ],
      "metadata": {
        "id": "dkmad_F4WJr-"
      },
      "execution_count": 18,
      "outputs": []
    },
    {
      "cell_type": "code",
      "source": [
        "df_1.show(5)"
      ],
      "metadata": {
        "colab": {
          "base_uri": "https://localhost:8080/"
        },
        "id": "R-T-_0WAWkX4",
        "outputId": "e51f9c45-2212-4516-fb75-86c17beb6ce7"
      },
      "execution_count": 19,
      "outputs": [
        {
          "output_type": "stream",
          "name": "stdout",
          "text": [
            "+---------------------+-----------+--------------------+------+\n",
            "|                movie|spoiler_tag|       review_detail|rating|\n",
            "+---------------------+-----------+--------------------+------+\n",
            "|蜘蛛人：離家日 (2019)|        0.0|It's been just a ...|   5.0|\n",
            "| Star Trek: A Piec...|        0.0|I can't say this ...|   3.0|\n",
            "|    流星花園 (2018– )|        0.0|This rating has n...|   3.0|\n",
            "| The Whole Truth (...|        0.0|A rather tawdry m...|   6.0|\n",
            "|     Tall Girl (2019)|        0.0|She's only six on...|   4.0|\n",
            "+---------------------+-----------+--------------------+------+\n",
            "only showing top 5 rows\n",
            "\n"
          ]
        }
      ]
    },
    {
      "cell_type": "code",
      "source": [
        "# Train test split\n",
        "training, testing = df_1.randomSplit([0.7, 0.3],1)"
      ],
      "metadata": {
        "id": "8yuEc2OaWDjr"
      },
      "execution_count": 20,
      "outputs": []
    },
    {
      "cell_type": "code",
      "source": [
        "print(\"Training Dataset Count: \" + str(df_1.count()))\n",
        "print(\"Training Dataset Count: \" + str(training.count()))\n",
        "print(\"Test Dataset Count: \" + str(testing.count()))"
      ],
      "metadata": {
        "colab": {
          "base_uri": "https://localhost:8080/"
        },
        "id": "CD_Z_O-KXnY3",
        "outputId": "7ebe5eb1-a174-4bc4-da10-8cd217f9286f"
      },
      "execution_count": 22,
      "outputs": [
        {
          "output_type": "stream",
          "name": "stdout",
          "text": [
            "Training Dataset Count: 45925\n",
            "Training Dataset Count: 32159\n",
            "Test Dataset Count: 13766\n"
          ]
        }
      ]
    },
    {
      "cell_type": "code",
      "source": [
        "# Show training data \n",
        "training.show()"
      ],
      "metadata": {
        "colab": {
          "base_uri": "https://localhost:8080/"
        },
        "id": "0fRKoQuSXzYB",
        "outputId": "543ebaaf-4979-4424-dd50-7d1b64cbcc9c"
      },
      "execution_count": 21,
      "outputs": [
        {
          "output_type": "stream",
          "name": "stdout",
          "text": [
            "+--------------------+-----------+--------------------+------+\n",
            "|               movie|spoiler_tag|       review_detail|rating|\n",
            "+--------------------+-----------+--------------------+------+\n",
            "|       #Alive (2020)|        0.0|#Alive is a film ...|   7.0|\n",
            "|       #Alive (2020)|        0.0|Haven't watched a...|   7.0|\n",
            "|       #Alive (2020)|        1.0|#Alive was better...|   6.0|\n",
            "|       #Alive (2020)|        1.0|Pretty enjoyable....|   8.0|\n",
            "|#AnneFrank - Para...|        0.0|Let's face it, He...|   7.0|\n",
            "|#AnneFrank - Para...|        0.0|Overall it's a wo...|   7.0|\n",
            "|#AnneFrank - Para...|        0.0|The girl posting ...|   1.0|\n",
            "|#AnneFrank - Para...|        0.0|This was one of t...|   4.0|\n",
            "|   #BlackAF (2020– )|        0.0|Both my best frie...|  10.0|\n",
            "|   #BlackAF (2020– )|        0.0|Brilliant show, a...|  10.0|\n",
            "|   #BlackAF (2020– )|        0.0|I'll start by exp...|   1.0|\n",
            "|#FriendButMarried...|        0.0|The 1st one is ok...|   3.0|\n",
            "|      #Horror (2015)|        0.0|An artful and pro...|   4.0|\n",
            "|      #Horror (2015)|        0.0|I have to say its...|  10.0|\n",
            "|      #Horror (2015)|        1.0|I took a chance o...|   1.0|\n",
            "|     #Jowable (2019)|        0.0|B grade. Lazy cin...|   1.0|\n",
            "|     #Jowable (2019)|        0.0|By the beginning ...|   9.0|\n",
            "|     #Jowable (2019)|        0.0|I watched it beca...|   1.0|\n",
            "|     #Jowable (2019)|        0.0|The copy of a mov...|  10.0|\n",
            "| #Realityhigh (2017)|        1.0|Basically the sam...|   2.0|\n",
            "+--------------------+-----------+--------------------+------+\n",
            "only showing top 20 rows\n",
            "\n"
          ]
        }
      ]
    },
    {
      "cell_type": "code",
      "source": [
        "# Find the data types\n",
        "training.dtypes\n"
      ],
      "metadata": {
        "colab": {
          "base_uri": "https://localhost:8080/"
        },
        "id": "P8m3hghAX4ho",
        "outputId": "c6d4c715-ebb5-4379-ab59-2a7b6ea2feb4"
      },
      "execution_count": 22,
      "outputs": [
        {
          "output_type": "execute_result",
          "data": {
            "text/plain": [
              "[('movie', 'string'),\n",
              " ('spoiler_tag', 'float'),\n",
              " ('review_detail', 'string'),\n",
              " ('rating', 'float')]"
            ]
          },
          "metadata": {},
          "execution_count": 22
        }
      ]
    },
    {
      "cell_type": "code",
      "source": [
        "# Linear REGRESSION MODEL \n",
        "featureCols = ['label_spoiler_tag', 'label_movie', 'review_features']\n",
        "# Create all the steps for the pipeline\n",
        "label_indexer = StringIndexer(inputCol='movie',outputCol='label_movie', stringOrderType=\"frequencyDesc\").setHandleInvalid(\"keep\")\n",
        "label_indexer1 = StringIndexer(inputCol='spoiler_tag',outputCol='label_spoiler_tag')\n",
        "tokenizer = Tokenizer(inputCol=\"review_detail\", outputCol=\"Wordsfiltered\")\n",
        "stopremove = StopWordsRemover(inputCol='Wordsfiltered',outputCol='hashedValues')\n",
        "hashingTF = HashingTF(inputCol=\"hashedValues\", outputCol='review_features')\n",
        "# put features into a feature vector column\n",
        "assembler = VectorAssembler(inputCols=featureCols, outputCol=\"features\") \n",
        "\n",
        "lr = LinearRegression(featuresCol='features', labelCol=\"rating\", predictionCol='pred_rating', \n",
        "                       maxIter=10, regParam=0.3, elasticNetParam=0.8, standardization=False)\n",
        "\n",
        "# Define pipeline\n",
        "pipeline = Pipeline(stages=[label_indexer, label_indexer1, tokenizer, stopremove, hashingTF, assembler, lr])\n",
        "\n",
        "# Fit the pipeline to training reviews.\n",
        "lrmodel = pipeline.fit(training)\n",
        "\n",
        "# Tranform the model with the testing data\n",
        "predictions_lr = lrmodel.transform(testing)\n"
      ],
      "metadata": {
        "id": "qXCf8u9lGGku"
      },
      "execution_count": 23,
      "outputs": []
    },
    {
      "cell_type": "code",
      "source": [
        "predictions_lr.show()"
      ],
      "metadata": {
        "colab": {
          "base_uri": "https://localhost:8080/"
        },
        "id": "cxEl0p0YGRbo",
        "outputId": "fb7a6354-dc8b-40f8-a571-3b6932693264"
      },
      "execution_count": 24,
      "outputs": [
        {
          "output_type": "stream",
          "name": "stdout",
          "text": [
            "+--------------------+-----------+--------------------+------+-----------+-----------------+--------------------+--------------------+--------------------+--------------------+------------------+\n",
            "|               movie|spoiler_tag|       review_detail|rating|label_movie|label_spoiler_tag|       Wordsfiltered|        hashedValues|     review_features|            features|       pred_rating|\n",
            "+--------------------+-----------+--------------------+------+-----------+-----------------+--------------------+--------------------+--------------------+--------------------+------------------+\n",
            "|#AnneFrank - Para...|        0.0|But this panderin...|   4.0|     4126.0|              0.0|[but, this, pande...|[pandering, youth...|(262144,[8804,211...|(262146,[1,8806,2...| 6.813491207672259|\n",
            "|#AnneFrank - Para...|        0.0|Is this a docu-dr...|   5.0|     4126.0|              0.0|[is, this, a, doc...|[docu-drama, exer...|(262144,[3121,941...|(262146,[1,3123,9...| 6.813491207672259|\n",
            "|   #BlackAF (2020– )|        0.0|I'm guessing that...|   8.0|     5609.0|              0.0|[i'm, guessing, t...|[guessing, 62, ye...|(262144,[5675,853...|(262146,[1,5677,8...|6.8075149449979415|\n",
            "|#BlackLove (2015–...|        0.0|The name of the s...|  10.0|    81185.0|              0.0|[the, name, of, t...|[name, show, caug...|(262144,[303,3928...|(262146,[1,305,39...| 6.502955249870328|\n",
            "|#Freerayshawn (2020)|        0.0|For a premise abo...|   5.0|    30875.0|              0.0|[for, a, premise,...|[premise, cops,, ...|(262144,[12644,23...|(262146,[1,12646,...| 6.705696837965361|\n",
            "|#Freerayshawn (2020)|        0.0|Seems like the wh...|   2.0|    30875.0|              0.0|[seems, like, the...|[seems, like, who...|(262144,[19,2628,...|(262146,[1,21,263...| 6.804087686155589|\n",
            "|#FriendButMarried...|        0.0|Mawar's acting sk...|   8.0|    30876.0|              0.0|[mawar's, acting,...|[mawar's, acting,...|(262144,[5537,743...|(262146,[1,5539,7...| 6.705692808118648|\n",
            "|       #Stuck (2014)|        0.0|Entertaining to w...|   5.0|    81185.0|              0.0|[entertaining, to...|[entertaining, wa...|(262144,[810,1578...|(262146,[1,812,15...| 6.502955249870328|\n",
            "|#cats_the_mewvie ...|        0.0|I had hoped the m...|   4.0|     7410.0|              0.0|[i, had, hoped, t...|[hoped, movie, ni...|(262144,[22346,31...|(262146,[1,22348,...| 6.800257191069117|\n",
            "|     $5 a Day (2008)|        1.0|. . . but haven't...|   7.0|    30882.0|              1.0|[., ., ., but, ha...|[., ., ., found, ...|(262144,[113,520,...|(262146,[0,1,115,...| 6.705668629038375|\n",
            "|          '71 (2014)|        0.0|Based on the almo...|   5.0|     5046.0|              0.0|[based, on, the, ...|[based, almost, u...|(262144,[2437,311...|(262146,[1,2439,3...| 6.809783748696957|\n",
            "|'Allo 'Allo!: Dow...|        0.0|Rene once again p...|   8.0|    81185.0|              0.0|[rene, once, agai...|[rene, plans, fle...|(262144,[5454,121...|(262146,[1,5456,1...| 6.552150673965442|\n",
            "|      'C'-Man (1949)|        0.0|The reviews for \"...|   3.0|    81185.0|              0.0|[the, reviews, fo...|[reviews, \"c-man\"...|(262144,[7434,920...|(262146,[1,7436,9...| 6.502955249870328|\n",
            "|'Crocodile' Dunde...|        0.0|Love the whole fr...|   9.0|    81185.0|              0.0|[love, the, whole...|[love, whole, fra...|(262144,[18816,21...|(262146,[1,18818,...| 6.502955249870328|\n",
            "|'It's Alive!' (19...|        0.0|This film was inc...|   3.0|    81185.0|              0.0|[this, film, was,...|[film, included, ...|(262144,[2701,634...|(262146,[1,2703,6...| 6.502955249870328|\n",
            "|'Team America': C...|        0.0|This is another o...|   7.0|    81185.0|              0.0|[this, is, anothe...|[another, feature...|(262144,[4214,627...|(262146,[1,4216,6...| 6.502955249870328|\n",
            "|'Team America': U...|        0.0|This is the seven...|   7.0|    81185.0|              0.0|[this, is, the, s...|[seventh, final(g...|(262144,[2437,553...|(262146,[1,2439,5...| 6.502955249870328|\n",
            "|    ...Around (2008)|        0.0|Embrace the Fall ...|   8.0|    81185.0|              0.0|[embrace, the, fa...|[embrace, fall, f...|(262144,[303,815,...|(262146,[1,305,81...| 6.552150673965442|\n",
            "|1 - Nenokkadine (...|        0.0|This one psycholo...|  10.0|    10647.0|              0.0|[this, one, psych...|[one, psychologic...|(262144,[619,2701...|(262146,[1,621,27...| 6.787212577261452|\n",
            "|1 Interrogation (...|        0.0|Good acting and p...|  10.0|     4127.0|              0.0|[good, acting, an...|[good, acting, pl...|(262144,[7014,137...|(262146,[1,7016,1...| 6.862682601920661|\n",
            "+--------------------+-----------+--------------------+------+-----------+-----------------+--------------------+--------------------+--------------------+--------------------+------------------+\n",
            "only showing top 20 rows\n",
            "\n"
          ]
        }
      ]
    },
    {
      "cell_type": "code",
      "source": [
        "# Evaluate Logistic Regression model\n",
        "from pyspark.ml.evaluation import RegressionEvaluator\n",
        "lr_evaluator = RegressionEvaluator(predictionCol=\"pred_rating\", \\\n",
        "                 labelCol=\"rating\",metricName=\"r2\")\n",
        "print(\"R Squared (R2) on test data = %g\" % lr_evaluator.evaluate(predictions_lr))\n"
      ],
      "metadata": {
        "colab": {
          "base_uri": "https://localhost:8080/"
        },
        "id": "oJG81hkWGUW1",
        "outputId": "99b2dd25-4690-491c-9e62-1cf383070299"
      },
      "execution_count": 25,
      "outputs": [
        {
          "output_type": "stream",
          "name": "stdout",
          "text": [
            "R Squared (R2) on test data = 0.00322494\n"
          ]
        }
      ]
    },
    {
      "cell_type": "code",
      "source": [
        "# Evaluate Logistic Regression model\n",
        "from pyspark.ml.evaluation import RegressionEvaluator\n",
        "lr_evaluator = RegressionEvaluator(predictionCol=\"pred_rating\", \\\n",
        "                 labelCol=\"rating\",metricName=\"rmse\")\n",
        "print(\"RMSE) on test data = %g\" % lr_evaluator.evaluate(predictions_lr))\n"
      ],
      "metadata": {
        "colab": {
          "base_uri": "https://localhost:8080/"
        },
        "id": "bT9iPH8aL9dN",
        "outputId": "225898e8-21b2-4198-bb4d-79aeb164f99b"
      },
      "execution_count": 26,
      "outputs": [
        {
          "output_type": "stream",
          "name": "stdout",
          "text": [
            "RMSE) on test data = 3.02869\n"
          ]
        }
      ]
    },
    {
      "cell_type": "code",
      "source": [],
      "metadata": {
        "id": "0m4VZ8NYWNAy"
      },
      "execution_count": null,
      "outputs": []
    },
    {
      "cell_type": "code",
      "source": [],
      "metadata": {
        "id": "cSZacf5pWM-E"
      },
      "execution_count": null,
      "outputs": []
    },
    {
      "cell_type": "code",
      "source": [],
      "metadata": {
        "id": "VKALXxSZWM7C"
      },
      "execution_count": null,
      "outputs": []
    },
    {
      "cell_type": "code",
      "source": [
        "df3.printSchema() "
      ],
      "metadata": {
        "colab": {
          "base_uri": "https://localhost:8080/"
        },
        "outputId": "dbe32fab-a7a7-46f3-91c3-6d6ac3ddfdd3",
        "id": "G6GLJYixWNgO"
      },
      "execution_count": 16,
      "outputs": [
        {
          "output_type": "stream",
          "name": "stdout",
          "text": [
            "root\n",
            " |-- helpful: array (nullable = true)\n",
            " |    |-- element: string (containsNull = true)\n",
            " |-- movie: string (nullable = true)\n",
            " |-- rating: float (nullable = true)\n",
            " |-- review_date: string (nullable = true)\n",
            " |-- review_detail: string (nullable = true)\n",
            " |-- review_id: string (nullable = true)\n",
            " |-- review_summary: string (nullable = true)\n",
            " |-- reviewer: string (nullable = true)\n",
            " |-- spoiler_tag: float (nullable = true)\n",
            "\n"
          ]
        }
      ]
    },
    {
      "cell_type": "code",
      "source": [
        "df_2 = df3['review_detail', 'rating']"
      ],
      "metadata": {
        "id": "La8z54TBWNgO"
      },
      "execution_count": 17,
      "outputs": []
    },
    {
      "cell_type": "code",
      "source": [
        "df_2.show(5)"
      ],
      "metadata": {
        "colab": {
          "base_uri": "https://localhost:8080/"
        },
        "outputId": "fb97b1c4-b512-4bae-d4ba-b71a6ac3be79",
        "id": "MO6SsAO4WNgP"
      },
      "execution_count": 18,
      "outputs": [
        {
          "output_type": "stream",
          "name": "stdout",
          "text": [
            "+--------------------+------+\n",
            "|       review_detail|rating|\n",
            "+--------------------+------+\n",
            "|It's been just a ...|   5.0|\n",
            "|I can't say this ...|   3.0|\n",
            "|This rating has n...|   3.0|\n",
            "|A rather tawdry m...|   6.0|\n",
            "|She's only six on...|   4.0|\n",
            "+--------------------+------+\n",
            "only showing top 5 rows\n",
            "\n"
          ]
        }
      ]
    },
    {
      "cell_type": "code",
      "source": [
        "# Train test split\n",
        "training1, testing1 = df_2.randomSplit([0.7, 0.3],1)"
      ],
      "metadata": {
        "id": "HpztPSDNWNgP"
      },
      "execution_count": 19,
      "outputs": []
    },
    {
      "cell_type": "code",
      "source": [
        "from pyspark.ml import Pipeline\n",
        "from pyspark.ml.regression import GBTRegressor\n",
        "from pyspark.ml.feature import VectorIndexer\n",
        "from pyspark.ml.evaluation import RegressionEvaluator\n",
        "\n",
        "\n",
        "# GBT REGRESSION MODEL \n",
        "featureCols = ['review_features']\n",
        "# Create all the steps for the pipeline\n",
        "tokenizer = Tokenizer(inputCol=\"review_detail\", outputCol=\"Wordsfiltered\")\n",
        "stopremove = StopWordsRemover(inputCol='Wordsfiltered',outputCol='hashedValues')\n",
        "hashingTF = HashingTF(inputCol=\"hashedValues\", outputCol='review_features')\n",
        "# put features into a feature vector column\n",
        "assembler = VectorAssembler(inputCols=featureCols, outputCol=\"features\") \n",
        "\n",
        "# Train a GBT model.\n",
        "gbt = GBTRegressor(featuresCol=\"features\", labelCol=\"rating\", maxIter=10)\n",
        "\n",
        "\n",
        "\n",
        "# Define pipeline\n",
        "pipeline = Pipeline(stages=[tokenizer, stopremove, hashingTF, assembler, gbt])\n",
        "\n",
        "# Fit the pipeline to training reviews.\n",
        "gbtmodel = pipeline.fit(training1)\n",
        "\n",
        "# Tranform the model with the testing data\n",
        "predictions = gbtmodel.transform(testing1)\n",
        "\n",
        "\n",
        "\n",
        "# Select example rows to display.\n",
        "predictions.select(\"prediction\", \"rating\", \"features\").show(5)\n",
        "\n",
        "# Select (prediction, true label) and compute test error\n",
        "evaluator = RegressionEvaluator(\n",
        "    labelCol=\"rating\", predictionCol=\"prediction\", metricName=\"rmse\")\n",
        "rmse = evaluator.evaluate(predictions)\n",
        "print(\"Root Mean Squared Error (RMSE) on test data = %g\" % rmse)\n",
        "\n",
        "gbtModel = gbtmodel.stages[6]\n",
        "print(gbtModel)  # summary only\n"
      ],
      "metadata": {
        "id": "h2nGDAqSbfWS"
      },
      "execution_count": null,
      "outputs": []
    },
    {
      "cell_type": "code",
      "source": [
        "from pyspark.ml import Pipeline\n",
        "from pyspark.ml.regression import DecisionTreeRegressor\n",
        "from pyspark.ml.feature import VectorIndexer\n",
        "from pyspark.ml.evaluation import RegressionEvaluator"
      ],
      "metadata": {
        "id": "EPNGOekdbStF"
      },
      "execution_count": 25,
      "outputs": []
    },
    {
      "cell_type": "code",
      "source": [
        "from pyspark.ml import Pipeline\n",
        "from pyspark.ml.regression import DecisionTreeRegressor\n",
        "from pyspark.ml.feature import VectorIndexer\n",
        "from pyspark.ml.evaluation import RegressionEvaluator\n",
        "\n",
        "# Linear REGRESSION MODEL \n",
        "featureCols = ['review_features']\n",
        "# Create all the steps for the pipeline\n",
        "tokenizer = Tokenizer(inputCol=\"review_detail\", outputCol=\"Wordsfiltered\")\n",
        "stopremove = StopWordsRemover(inputCol='Wordsfiltered',outputCol='hashedValues')\n",
        "hashingTF = HashingTF(inputCol=\"hashedValues\", outputCol='review_features')\n",
        "# put features into a feature vector column\n",
        "#assembler = VectorAssembler(inputCols=\"review_features\", outputCol=\"features\") \n",
        "\n",
        "# Train a DT model.\n",
        "gbt = DecisionTreeRegressor(featuresCol=\"review_features\", labelCol=\"rating\")\n",
        "# Define pipeline\n",
        "pipeline = Pipeline(stages=[tokenizer, stopremove, hashingTF, gbt])\n",
        "# Fit the pipeline to training reviews.\n",
        "gbtmodel = pipeline.fit(training1)\n",
        "# Tranform the model with the testing data\n",
        "predictions = gbtmodel.transform(testing1)\n",
        "\n",
        "\n"
      ],
      "metadata": {
        "id": "S8OsTjwQfhGc"
      },
      "execution_count": null,
      "outputs": []
    },
    {
      "cell_type": "code",
      "source": [
        "# Select example rows to display.\n",
        "predictions.show(5)\n",
        "# Select (prediction, true label) and compute test error\n",
        "evaluator = RegressionEvaluator(\n",
        "    labelCol=\"rating\", predictionCol=\"prediction\", metricName=\"rmse\")\n",
        "rmse = evaluator.evaluate(predictions)\n",
        "print(\"Root Mean Squared Error (RMSE) on test data = %g\" % rmse)\n",
        "\n",
        "gbtModel = gbtmodel.stages[3]\n",
        "print(gbtModel)  # summary only"
      ],
      "metadata": {
        "id": "BZYuyFuuaru9"
      },
      "execution_count": null,
      "outputs": []
    }
  ]
}